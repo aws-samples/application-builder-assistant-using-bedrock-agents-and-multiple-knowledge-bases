{
 "cells": [
  {
   "cell_type": "markdown",
   "id": "98851f24-a2f5-42c6-8435-219764f5af33",
   "metadata": {},
   "source": [
    "<center><img src=\"images/MLU-NEW-logo.png\" alt=\"drawing\" width=\"400\" style=\"background-color:white; padding:1em;\" /></center> <br/>\n",
    "\n",
    "\n",
    "# <a name=\"0\">Bedrock Agents-Based AI AppBuilder Assistant with Boto3 SDK </a>\n",
    "\n",
    "## Notebook Overview\n",
    "\n",
    "In this notebook, we build an agent to act as an Application Builder Assistant. Typically to build a three-tier software application, we need a user interface (UI component), middle tier (aka backend) for business APIs, and a database tier. With this assistant, we can generate SQL queries using a database schema (DDL: Data definition language) and execute them against a database instance, recommend software design best practices using the AWS Well-Architected Framework, and generate code snippets in many of the standard programming languages to improve developer productivity and facilitate rapid development of use-cases.\n",
    "\n",
    "<div style=\"border: 4px solid coral; text-align: left; margin: auto; padding-left: 20px; padding-right: 20px\">\n",
    "    <h4>This notebook auto-cleans up resources to be frugal. </h4>\n",
    "    You can visit this section (<a href=\"#10\"> Clean-up Resources</a>) to change the setting if you need to experiment with prompts and settings. Please run clean-up resources after you are done with experiments. <br/>\n",
    "</div>\n",
    "<br/>\n",
    "\n",
    "\n",
    "##### Notebook Kernel\n",
    "Please choose `conda_python3` as the kernel type of the top right corner of the notebook if that does not appear by default.\n",
    "\n",
    "\n",
    "## LLM Used\n",
    "- Anthropic Claude 3.0 Sonnet \n",
    "- Titan Text Embeddings v2\n",
    "\n",
    "## Regions tested \n",
    "- us-east-1\n",
    "- us-west-2\n",
    "- All other regions where agents and respective LLMs are supported are candidates to test this notebook.\n",
    "\n",
    "## Use-Case Overview\n",
    "Lets look at when this Application Builder Assistant acts as a coding assistant vs recommends AWS Design Best Practices vs aids in SQL code generation and execution.\n",
    "\n",
    "First it is important to understand the type of task the user is asking for:\n",
    "\n",
    "Does the user want to write and validate SQL Query against a database?\n",
    "- If yes, use the existing DDL schemas to come up with the SQL query.\n",
    "\n",
    "Does the user want to author some code for say, helper functions like validate email?\n",
    "- If yes, use prompt engineering techniques to generate the email validation code.\n",
    "\n",
    "Does the user want recommendation on design best practices?\n",
    "- If yes, look up with AWS Well-Architected Knowledge Base.\n",
    "\n",
    "<center><img src=\"images/agents.drawio.png\" alt=\"architecture diagram for this notebook to demonstrate the conditional workflow for llms. This shows 3 workflows possible via this Application Builder Assistant. 1) Text to SQL - generate SQL statements via natural language and execute it against a local DB 2) web scraped knowledge base on AWS well architected framework - user can ask questions on it 3) Write and explain code via Claude LLM. User can ask any of these three types of questions making it an application builder assistant.\"  height=\"700\" width=\"700\" style=\"background-color:white; padding:1em;\" /></center> <br/>\n",
    "\n",
    "\n",
    "\n",
    "It demonstrates how to:\n",
    "1. Select the underlying foundation model (FM) for your agent \n",
    "2. Provide a clear and concise agent instruction \n",
    "3. Create and associate an action group with an API schema and a Lambda function \n",
    "4  Create and associate multiple knowledge bases (2 KBs in this notebook) with the agent\n",
    "5. Create, invoke, test, and deploy the agent\n",
    "6. Generate UI/Backend code with LLMs\n",
    "7. Recommend AWS best practices for system design with the AWS Well-Architected Framework guidelines\n",
    "8. Generate and execute/validate the SQL from natural language understanding via LLMs, few shot examples, and a database schema as a knowledge base\n",
    "9. Clean up resources (Be Frugal)\n",
    "\n",
    "\n",
    "We are using the Retrieval Augmented Generation (RAG) technique with Amazon Bedrock. A RAG implementation consists of two parts:\n",
    "\n",
    "    A data pipeline that ingests that from documents (typically stored in Amazon S3) into a knowledge base i.e. a vector database such as Amazon OpenSearch Service Serverless (AOSS) so that it is available for lookup when a question is received.\n",
    "\n",
    "    An application that receives a question from the user, looks up the knowledge base for relevant pieces of information (context) and then creates a prompt that includes the question and the context and provides it to an LLM for generating a response.\n",
    "\n",
    "The data pipeline represents an undifferentiated heavy lifting and can be implemented using Amazon Bedrock Agents for Knowledge Base. We can now connect an S3 bucket to a vector database such as AOSS and have a Bedrock Agent read the objects (html, pdf, text etc.), chunk them, and then convert these chunks into embeddings using Amazon Titan Embeddings model(titan-embed-text-v2:0) and then store these embeddings in AOSS. All of this without having to build, deploy, and manage the data pipeline.\n",
    "\n",
    "\n",
    "\n",
    "Once the data is available in the Bedrock knowledge base then user questions can be answered using the following system design:\n",
    "\n",
    "\n",
    "This notebook has the following sections:\n",
    "\n",
    "1. <a href=\"#1\">Environment configuration</a>\n",
    "2. <a href=\"#2\">Set up Bedrock for inference</a>\n",
    "3. <a href=\"#3\">Setup prefix variables for various agent resources</a>\n",
    "4. <a href=\"#4\">Creating an agent</a>\n",
    "5. <a href=\"#5\">Deploy agent and create agent alias</a>\n",
    "6. <a href=\"#6\">Invoke agent </a>\n",
    "7. <a href=\"#7\">Code generation examples</a>\n",
    "8. <a href=\"#8\">System design Q&A with the AWS Well-Architected Framework</a>\n",
    "9. <a href=\"#9\">SQL generation and execution against a database</a>\n",
    "10. <a href=\"#10\">Clean up resources</a>\n",
    "    \n",
    "Please work top to bottom of this notebook and don't skip sections as this could lead to error messages due to missing code.\n",
    "\n",
    "---"
   ]
  },
  {
   "cell_type": "markdown",
   "id": "8b54de30-fe9e-4b38-943a-330065bfa7ef",
   "metadata": {},
   "source": [
    "\n",
    "Let's start by installing all required packages as specified in the `requirements.txt` file and importing several libraries."
   ]
  },
  {
   "cell_type": "code",
   "execution_count": 1,
   "id": "ed573125",
   "metadata": {},
   "outputs": [
    {
     "data": {
      "text/html": [
       "\n",
       "<a class=\"github-button\" href=\"https://github.com/aws-samples/application-builder-assistant-using-bedrock-agents-and-multiple-knowledge-bases\" data-color-scheme=\"no-preference: light; light: light; dark: dark;\" data-icon=\"octicon-star\" data-size=\"large\" data-show-count=\"true\" aria-label=\"Star AI App Builder Assistant with Agents on GitHub\">Star</a>\n",
       "<script async defer src=\"https://buttons.github.io/buttons.js\"></script>\n"
      ],
      "text/plain": [
       "<IPython.core.display.HTML object>"
      ]
     },
     "metadata": {},
     "output_type": "display_data"
    }
   ],
   "source": [
    "%%html\n",
    "\n",
    "<a class=\"github-button\" href=\"https://github.com/aws-samples/application-builder-assistant-using-bedrock-agents-and-multiple-knowledge-bases\" data-color-scheme=\"no-preference: light; light: light; dark: dark;\" data-icon=\"octicon-star\" data-size=\"large\" data-show-count=\"true\" aria-label=\"Star AI App Builder Assistant with Agents on GitHub\">Star</a>\n",
    "<script async defer src=\"https://buttons.github.io/buttons.js\"></script>"
   ]
  },
  {
   "cell_type": "markdown",
   "id": "5463f03b-7f8b-4a95-a7c8-0caa46d6ae4b",
   "metadata": {},
   "source": [
    "\n",
    "## <a name=\"1\">Environment setup and configuration</a>\n",
    "(<a href=\"#0\">Go to top</a>)\n",
    "\n",
    "Before starting, let's import the required packages and configure the support variables:"
   ]
  },
  {
   "cell_type": "code",
   "execution_count": null,
   "id": "f52a5a6f-8dc4-4d4e-bdf0-b40efc9a868d",
   "metadata": {},
   "outputs": [],
   "source": [
    "%%capture\n",
    "!pip3 install setuptools==58.2.0"
   ]
  },
  {
   "cell_type": "code",
   "execution_count": null,
   "id": "cee3e166-5344-4fea-b066-3a89da77488a",
   "metadata": {},
   "outputs": [],
   "source": [
    "#%%capture\n",
    "!pip3 install -r requirements.txt --quiet"
   ]
  },
  {
   "cell_type": "code",
   "execution_count": null,
   "id": "c7a21579-0989-453e-a4d8-e0a4e0b42181",
   "metadata": {},
   "outputs": [],
   "source": [
    "%%capture\n",
    "!pip3 install -U langchain-community\n",
    "!pip3 install -U opensearch-py\n",
    "!pip3 install -U requests_aws4auth\n",
    "!pip3 install -U boto3\n",
    "!pip3 install -U botocore\n",
    "!pip3 install -U awscli"
   ]
  },
  {
   "cell_type": "code",
   "execution_count": null,
   "id": "1b5428e2-37d0-4199-a234-33521ec995ad",
   "metadata": {
    "tags": []
   },
   "outputs": [],
   "source": [
    "import logging\n",
    "import boto3\n",
    "import random\n",
    "import time\n",
    "import zipfile\n",
    "from io import BytesIO\n",
    "import json\n",
    "import uuid\n",
    "import pprint\n",
    "import os, shutil\n",
    "from opensearchpy import OpenSearch, RequestsHttpConnection\n",
    "from requests_aws4auth import AWS4Auth\n",
    "from fetch_aws_best_practices import *\n",
    "\n",
    "from mlu_utils.agents_utils import *\n",
    "from mlu_utils.agents_infra_utils_with_two_kbs import *\n",
    "from mlu_utils.show_trace_widget import *\n",
    "from mlu_utils.summarize_agent_trace import *\n",
    "from IPython.display import Markdown"
   ]
  },
  {
   "cell_type": "code",
   "execution_count": null,
   "id": "7565e33e-b441-4ab7-b3cc-79a297065fb3",
   "metadata": {
    "tags": []
   },
   "outputs": [],
   "source": [
    "# cleanup trace files to avoid issues\n",
    "trace_file_path = \"./trace_files/\"\n",
    "if os.path.isdir(trace_file_path):\n",
    "    shutil.rmtree(trace_file_path)\n",
    "os.mkdir('trace_files')"
   ]
  },
  {
   "cell_type": "code",
   "execution_count": null,
   "id": "a8957183-9205-451a-8aab-04c4374d0587",
   "metadata": {
    "tags": []
   },
   "outputs": [],
   "source": [
    "clean_up_trace_files(\"./trace_files/\")"
   ]
  },
  {
   "cell_type": "code",
   "execution_count": null,
   "id": "ea10158d-adb7-463e-ae3e-df72da6e850b",
   "metadata": {
    "tags": []
   },
   "outputs": [],
   "source": [
    "# setting logger\n",
    "logging.basicConfig(format='[%(asctime)s] p%(process)s {%(filename)s:%(lineno)d} %(levelname)s - %(message)s', level=logging.INFO)\n",
    "logger = logging.getLogger(__name__)\n",
    "\n",
    "pp = pprint.PrettyPrinter(width=41, compact=True)"
   ]
  },
  {
   "cell_type": "code",
   "execution_count": null,
   "id": "e2b06569-9d1b-45f4-942f-6271d45ee97e",
   "metadata": {
    "tags": []
   },
   "outputs": [],
   "source": [
    "import ipywidgets as widgets\n",
    "from IPython.display import JSON\n",
    "out = widgets.Output(layout=widgets.Layout(border = '1px solid black', width = '100%',))\n",
    "\n",
    "out_3_tabs_1 = widgets.Output(layout=widgets.Layout(border = '1px solid black', width = '100%',))\n",
    "out_3_tabs_2 = widgets.Output(layout=widgets.Layout(border = '1px solid black', width = '100%',))\n",
    "out_3_tabs_3 = widgets.Output(layout=widgets.Layout(border = '1px solid black', width = '100%',))\n",
    "out_3_tabs_4 = widgets.Output(layout=widgets.Layout(border = '1px solid black', width = '100%',))\n",
    "\n",
    "out_3_turn_1_summary = widgets.Output(layout=widgets.Layout(border = '1px solid black', width = '100%',))\n",
    "out_3_turn_2_summary = widgets.Output(layout=widgets.Layout(border = '1px solid black', width = '100%',))\n",
    "out_3_turn_3_summary = widgets.Output(layout=widgets.Layout(border = '1px solid black', width = '100%',))\n",
    "out_3_turn_4_summary = widgets.Output(layout=widgets.Layout(border = '1px solid black', width = '100%',))\n"
   ]
  },
  {
   "cell_type": "markdown",
   "id": "2b84a1f4-9ecb-4e03-a252-7f6fe7832763",
   "metadata": {},
   "source": [
    "### <a name=\"2\">2. Set up Bedrock for inference</a>\n",
    "(<a href=\"#0\">Go to top</a>)\n",
    "\n",
    "To get started, set up Bedrock and instantiate an active `bedrock-runtime` to query LLMs. The code below leverages [LangChain's Bedrock integration](https://python.langchain.com/docs/integrations/llms/bedrock).\n",
    "```\n",
    "bedrock_agent_client = boto3.client('bedrock-agent')\n",
    "bedrock_agent_runtime_client = boto3.client('bedrock-agent-runtime')\n",
    "\n",
    "```\n",
    "\n",
    "</br>"
   ]
  },
  {
   "cell_type": "code",
   "execution_count": null,
   "id": "a4097a61",
   "metadata": {},
   "outputs": [],
   "source": [
    "#test if bedrock model access has been enabled \n",
    "input_prompt = \"Who was the first person to land on the sun?\"\n",
    "test_llm_call(input_prompt)"
   ]
  },
  {
   "cell_type": "code",
   "execution_count": null,
   "id": "27d0afff",
   "metadata": {},
   "outputs": [],
   "source": [
    "# Check if knowledge base files have been downloaded as per instructions in both of these locations in this project\n",
    "# 1. `kb_appbuilder/aws_best_practices_2/readMe.txt`\n",
    "# 2. `kb_appbuilder/northwind_db/readMe.txt`\n",
    "\n",
    "kb_file_check = check_for_kb_files()"
   ]
  },
  {
   "cell_type": "code",
   "execution_count": null,
   "id": "b7600964",
   "metadata": {},
   "outputs": [],
   "source": [
    "# throw error and block execution of the rest of the notebook if the KB files do not exist\n",
    "if not kb_file_check:\n",
    "    print(\"Please check for knowledge base files and use the readMe inside the folders kb_appbuilder >> aws_best_practices_2 and kb_appbuilder >> northwind_db folders \")\n",
    "    raise Exception('Please check for knowledge base files and use the readMe inside the folders kb_appbuilder >> aws_best_practices_2 and kb_appbuilder >> northwind_db folders')\n",
    "else:\n",
    "    print(\"Knowledge base files exist , ready to start setup agent infrastructure\")"
   ]
  },
  {
   "cell_type": "code",
   "execution_count": null,
   "id": "89546d4c-0702-46c5-b75b-211b42bb8686",
   "metadata": {
    "tags": []
   },
   "outputs": [],
   "source": [
    "bedrock_agent_client = boto3.client('bedrock-agent')\n",
    "bedrock_agent_runtime_client = boto3.client('bedrock-agent-runtime')\n",
    "open_search_serverless_client = boto3.client('opensearchserverless')\n",
    "\n",
    "# getting boto3 clients for required AWS services\n",
    "sts_client = boto3.client('sts')\n",
    "iam_client = boto3.client('iam')\n",
    "s3_client = boto3.client('s3')\n",
    "lambda_client = boto3.client('lambda')\n",
    "\n",
    "session = boto3.session.Session()\n",
    "region = session.region_name\n",
    "account_id = sts_client.get_caller_identity()[\"Account\"]\n",
    "region, account_id"
   ]
  },
  {
   "cell_type": "markdown",
   "id": "4ec89861-d8dc-4bef-b4f6-f07a6ff49a2b",
   "metadata": {},
   "source": [
    "### <a name=\"3\">3. Setup agent infrastructure</a>\n",
    "(<a href=\"#0\">Go to top</a>)\n",
    "\n",
    "This is the same set of instructions for infrastructure setup as provided in Lab 2a and includes how to:\n",
    "- Setup for prefix variables with various agent resources\n",
    "- Create Lambda function for action group\n",
    "- Create knowledge base 1 for SQL generation with Northwind Database\n",
    "- Create knowledge base 2 for system design recommendation with AWS Well-Architected Framework\n",
    "- Create an agent\n",
    "\n"
   ]
  },
  {
   "cell_type": "code",
   "execution_count": null,
   "id": "c716e7f6-3288-4482-8fbf-d9ace69cc840",
   "metadata": {
    "tags": []
   },
   "outputs": [],
   "source": [
    "%%time\n",
    "# this takes roughly 10 mins on t3.medium instance.\n",
    "\n",
    "infra_response = setup_agent_infrastructure()"
   ]
  },
  {
   "cell_type": "code",
   "execution_count": null,
   "id": "ab564da2-4ac5-4d43-b7bf-d926860fb020",
   "metadata": {},
   "outputs": [],
   "source": [
    "agent_name = infra_response[\"agent_name\"]\n",
    "agent_alias_name = infra_response[\"agent_alias_name\"]\n",
    "agent_role = infra_response[\"agent_role\"]\n",
    "bucket_name = infra_response[\"bucket_name\"]\n",
    "schema_key = infra_response[\"schema_key\"]\n",
    "knowledge_base_db_id = infra_response[\"knowledge_base_db_id\"]\n",
    "knowledge_base_aws_id = infra_response[\"knowledge_base_aws_id\"]\n",
    "lambda_name = infra_response[\"lambda_name\"]\n",
    "lambda_function = infra_response[\"lambda_function\"]\n",
    "agent_bedrock_policy = infra_response[\"agent_bedrock_policy\"]\n",
    "agent_s3_schema_policy = infra_response[\"agent_s3_schema_policy\"]\n",
    "agent_role_name = infra_response[\"agent_role_name\"]\n",
    "lambda_role_name = infra_response[\"lambda_role_name\"]\n",
    "kb_db_collection_name = infra_response[\"kb_db_collection_name\"]\n",
    "kb_db_bedrock_policy = infra_response[\"kb_db_bedrock_policy\"]\n",
    "kb_db_aoss_policy = infra_response[\"kb_db_aoss_policy\"]\n",
    "kb_db_s3_policy = infra_response[\"kb_db_s3_policy\"]\n",
    "agent_kb_schema_policy = infra_response[\"agent_kb_schema_policy\"]\n",
    "kb_db_role_name = infra_response[\"kb_db_role_name\"]\n",
    "kb_db_opensearch_collection_response = infra_response[\"kb_db_opensearch_collection_response\"]\n",
    "kb_aws_collection_name = infra_response[\"kb_aws_collection_name\"]\n",
    "kb_aws_bedrock_policy = infra_response[\"kb_aws_bedrock_policy\"]\n",
    "kb_aws_aoss_policy = infra_response[\"kb_aws_aoss_policy\"]\n",
    "kb_aws_s3_policy = infra_response[\"kb_aws_s3_policy\"]\n",
    "kb_aws_role_name = infra_response[\"kb_aws_role_name\"]\n",
    "kb_aws_opensearch_collection_response = infra_response[\"kb_aws_opensearch_collection_response\"]\n"
   ]
  },
  {
   "cell_type": "markdown",
   "id": "96b86215-bc3d-47f6-a98c-6f96c513d886",
   "metadata": {},
   "source": [
    "### <a name=\"3\">Creating an agent </a>\n",
    "(<a href=\"#0\">Go to top</a>)\n",
    "\n",
    "Once the needed IAM role is created, we can use the Bedrock agent client to create a new agent. To do so we use the `create_agent` function. It requires an agent name, underlying foundation model, and instruction. You can also provide an agent description. Note that the agent created is not yet prepared. We will focus on preparing the agent and then using it to invoke actions and use other APIs:"
   ]
  },
  {
   "cell_type": "code",
   "execution_count": null,
   "id": "e1d7c63b-6bc0-4b48-a5c0-2db24fa5a21e",
   "metadata": {
    "tags": []
   },
   "outputs": [],
   "source": [
    "# Create Agent\n",
    "agent_instruction = \"\"\"\n",
    "Hello, I am AI Application Builder Assistant. \n",
    "\n",
    "I am capable of answering the following three categories of questions:\n",
    "- Best practices for design of software applications using the content inside the AWS best practices and AWS well-architected framework Knowledge Base. I help customers understand AWS best practices for building applications with AWS services.  \n",
    "- Generate a valid SQLite query for the customer using the database schema inside the Northwind DB knowledge base and then execute the query that answers the question based on the [Northwind] dataset.If the Northwind DB Knowledge Base search function result did not contain enough information to construct a full query try to construct a query to the best of your ability based on the Northwind database schema.\n",
    "- Generate and Explain code for the customer following standard programming language syntax \n",
    "\n",
    "Feel free to ask any questions along those lines!\n",
    "\n",
    "\"\"\"\n",
    "#foundationModel=\"anthropic.claude-3-sonnet-20240229-v1:0\",\n",
    "# \"anthropic.claude-v2\"\n",
    "\n",
    "response = bedrock_agent_client.create_agent(\n",
    "    agentName=agent_name,\n",
    "    agentResourceRoleArn=agent_role['Role']['Arn'],\n",
    "    description=\"AI Application Builder Assistant\",\n",
    "    idleSessionTTLInSeconds=1800,\n",
    "    foundationModel=\"anthropic.claude-3-sonnet-20240229-v1:0\",\n",
    "    instruction=agent_instruction,\n",
    ")"
   ]
  },
  {
   "cell_type": "markdown",
   "id": "aa89ac0d-b1af-4efa-bbb8-59a8f486a622",
   "metadata": {},
   "source": [
    "Looking at the created agent, we can see its status and agent id:"
   ]
  },
  {
   "cell_type": "markdown",
   "id": "780ce247-ff4c-4ecf-8558-222581d2ea52",
   "metadata": {},
   "source": [
    "Let's now store the agent id in a local variable to use it on the next steps"
   ]
  },
  {
   "cell_type": "code",
   "execution_count": null,
   "id": "4d2bf0ea-5c5c-4afc-9b4d-19158b48bb50",
   "metadata": {
    "tags": []
   },
   "outputs": [],
   "source": [
    "agent_id = response['agent']['agentId']\n",
    "agent_id"
   ]
  },
  {
   "cell_type": "markdown",
   "id": "32158234-b474-4bfa-8efd-afe5aa087df8",
   "metadata": {},
   "source": [
    "### Create agent action group\n",
    "We will now create an agent action group that uses the Lambda function and API schema files created before.\n",
    "The `create_agent_action_group` function provides this functionality. We will use `DRAFT` as the agent version since we haven't yet created an agent version or alias. To inform the agent about the action group functionalities, we will provide an action group description containing the functionalities of the action group."
   ]
  },
  {
   "cell_type": "code",
   "execution_count": null,
   "id": "ed8eb861-fcd9-4f7b-a69c-9ea382780add",
   "metadata": {},
   "outputs": [],
   "source": [
    "agent_functions = [\n",
    "        {\n",
    "            'name': 'run_query',\n",
    "            'description': 'this API can only execute queries against Northwind database',\n",
    "            'parameters': {\n",
    "                \"Query\": {\n",
    "                    \"description\": \"generated SQL Query\",\n",
    "                    \"required\": True,\n",
    "                    \"type\": \"string\"\n",
    "                }\n",
    "            }\n",
    "        },\n",
    "        {\n",
    "            'name': 'query_well_arch_framework',\n",
    "            'description': 'this API is just a LLM response decorator.',\n",
    "            'parameters': {\n",
    "                \"query\": {\n",
    "                    \"description\": \"Customer query\",\n",
    "                    \"required\": True,\n",
    "                    \"type\": \"string\"\n",
    "                }\n",
    "            }\n",
    "        },\n",
    "        {\n",
    "            'name': 'gen_code',\n",
    "            'description': 'this API is just a LLM response decorator.',\n",
    "            'parameters': {\n",
    "                \"query\": {\n",
    "                    \"description\": \"Customer query\",\n",
    "                    \"required\": True,\n",
    "                    \"type\": \"string\"\n",
    "                }\n",
    "            }\n",
    "        }\n",
    "    ]"
   ]
  },
  {
   "cell_type": "code",
   "execution_count": null,
   "id": "ca4dd6c1-5151-4846-ac75-e8b23e299a90",
   "metadata": {
    "tags": []
   },
   "outputs": [],
   "source": [
    "# Pause to make sure agent is created\n",
    "time.sleep(30)\n",
    "# Now, we can configure and create an action group here:\n",
    "agent_action_group_response = bedrock_agent_client.create_agent_action_group(\n",
    "    agentId=agent_id,\n",
    "    agentVersion='DRAFT',\n",
    "    actionGroupExecutor={\n",
    "        'lambda': lambda_function['FunctionArn']\n",
    "    },\n",
    "    actionGroupName='AppBuilderAssistantActionGroup',\n",
    "    functionSchema={\n",
    "            'functions': agent_functions\n",
    "        },\n",
    "    description='APIs to execute valid SQLite query and help customers with system design by querying the AWS Well-Architected Framework and writing code.'\n",
    ")"
   ]
  },
  {
   "cell_type": "markdown",
   "id": "04586a08-764b-499a-a52a-5b199b061890",
   "metadata": {},
   "source": [
    "### Allowing agent to invoke action group Lambda\n",
    "Before using our action group, we need to allow our agent to invoke the Lambda function associated to the action group. This is done via resource-based policy. Let's add the resource-based policy to the Lambda function created:"
   ]
  },
  {
   "cell_type": "code",
   "execution_count": null,
   "id": "33555ead-bc3c-420b-b0fd-ee644863ce57",
   "metadata": {
    "tags": []
   },
   "outputs": [],
   "source": [
    "# Create allow invoke permission on Lambda\n",
    "response = lambda_client.add_permission(\n",
    "    FunctionName=lambda_name,\n",
    "    StatementId='allow_bedrock',\n",
    "    Action='lambda:InvokeFunction',\n",
    "    Principal='bedrock.amazonaws.com',\n",
    "    SourceArn=f\"arn:aws:bedrock:{region}:{account_id}:agent/{agent_id}\",\n",
    ")"
   ]
  },
  {
   "cell_type": "markdown",
   "id": "7cae86e5-de02-430a-a094-86ae25957998",
   "metadata": {},
   "source": [
    "### Associating the agent to knowledge base 1\n"
   ]
  },
  {
   "cell_type": "code",
   "execution_count": null,
   "id": "951e3c5d-27c7-4a4f-9519-41984559367c",
   "metadata": {
    "tags": []
   },
   "outputs": [],
   "source": [
    "agent_kb_db_description = bedrock_agent_client.associate_agent_knowledge_base(\n",
    "    agentId=agent_id,\n",
    "    agentVersion='DRAFT',\n",
    "    description=f'Use the information in the {knowledge_base_db_id} Knowledge Base to generate a valid SQLite Query to answer the questions based on the Northwind database',\n",
    "    knowledgeBaseId=knowledge_base_db_id \n",
    ")"
   ]
  },
  {
   "cell_type": "code",
   "execution_count": null,
   "id": "d1520117-8446-4ec0-b2d3-50ed5c25a602",
   "metadata": {},
   "outputs": [],
   "source": [
    "agent_kb_db_description"
   ]
  },
  {
   "cell_type": "markdown",
   "id": "3808037f-e025-450f-87d8-4a2cf8764817",
   "metadata": {},
   "source": [
    "### Associating the agent to knowledge base 2"
   ]
  },
  {
   "cell_type": "code",
   "execution_count": null,
   "id": "c59f730e-5c90-45f9-aa41-635a42ac77c6",
   "metadata": {},
   "outputs": [],
   "source": [
    "agent_kb_aws_description = bedrock_agent_client.associate_agent_knowledge_base(\n",
    "    agentId=agent_id,\n",
    "    agentVersion='DRAFT',\n",
    "    description=f'Use the information in the {knowledge_base_aws_id} Knowledge Base to answer questions based on the AWS design best practices for enterprise software and AWS well architected framework',\n",
    "    knowledgeBaseId=knowledge_base_aws_id \n",
    ")"
   ]
  },
  {
   "cell_type": "markdown",
   "id": "c449b466-3d92-49e7-aef2-168c8f669c40",
   "metadata": {},
   "source": [
    "### Preparing the agent\n",
    "Let's create a DRAFT version of the agent that can be used for internal testing."
   ]
  },
  {
   "cell_type": "code",
   "execution_count": null,
   "id": "37a8d75d-9661-4b4f-95af-c3ab05e00b75",
   "metadata": {
    "tags": []
   },
   "outputs": [],
   "source": [
    "agent_prepare = bedrock_agent_client.prepare_agent(agentId=agent_id)\n",
    "agent_prepare"
   ]
  },
  {
   "cell_type": "markdown",
   "id": "092dc0d0-3597-4ec2-8959-e1c968c9670b",
   "metadata": {},
   "source": [
    "### <a name=\"8\">Create agent alias to deploy agent</a>\n",
    "(<a href=\"#0\">Go to top</a>)\n",
    "\n",
    "We will now create an alias of the agent that can be used to deploy the agent."
   ]
  },
  {
   "cell_type": "code",
   "execution_count": null,
   "id": "3f93af07-ac4b-45a0-89b5-7a90929df6f5",
   "metadata": {
    "tags": []
   },
   "outputs": [],
   "source": [
    "# Pause to make sure agent is prepared\n",
    "time.sleep(30)\n",
    "agent_alias = bedrock_agent_client.create_agent_alias(\n",
    "    agentId=agent_id,\n",
    "    agentAliasName=agent_alias_name\n",
    ")\n",
    "# Pause to make sure agent alias is ready\n",
    "time.sleep(30)"
   ]
  },
  {
   "cell_type": "code",
   "execution_count": null,
   "id": "35de5613-638c-4f04-88e0-6fc9689b5f5d",
   "metadata": {
    "tags": []
   },
   "outputs": [],
   "source": [
    "agent_alias"
   ]
  },
  {
   "cell_type": "markdown",
   "id": "ada2844c-04fd-4dfc-a87d-0a668afb8f82",
   "metadata": {},
   "source": [
    "### <a name=\"9\">Invoke agent</a>\n",
    "(<a href=\"#0\">Go to top</a>)\n",
    "\n",
    "Now that we've created the agent, let's use the `bedrock-agent-runtime` client to invoke this agent and perform some tasks."
   ]
  },
  {
   "cell_type": "code",
   "execution_count": null,
   "id": "b773f7db-6135-4050-a2fa-0bb6779c3c80",
   "metadata": {},
   "outputs": [],
   "source": [
    "USER_PROMPT_TEMPLATE = \"\"\"Question: {question}\n",
    "\n",
    "Given an input question, you will use the existing Knowledge Bases on AWS Well-Architected Framework and Northwind DB Knowledge Base. \n",
    "\n",
    "- For building and designing software applications, you will use the existing Knowledge Base on AWS well-architected framework to generate a response of the most relevant design principles and links to any documents. This Knowledge Base response can then be passed to the functions available to answer the user question. The final response to the direct answer to the user question. It has to be in markdown format highlighting any text of interest. Remove any backticks in the final response.\n",
    "\n",
    "- To generate code for a given user question,  you can use the default Large Language model to come up with the response. This response can be in code markdown format. You can optionally provide an explanation for the code.\n",
    "\n",
    "- To explain code for a given user question, you can use the default Large Language model to come up with the response. \n",
    "\n",
    "- For SQL query generation you will ONLY use the existing database schemas in the Northwind DB Knowledge Base to create a syntactically correct SQLite query and then you will EXECUTE the SQL Query using the functions and API provided to answer the question. \n",
    "Make sure to use only existing columns and tables exactly as mentioned in database schema. The table names can have spaces in between them. Make sure to wrap table names with square brackets. Make sure to add a semicolon after the end of the SQL statement generated.\n",
    "Remove any backticks and any html tags like <table><th><tr> in the final response.\n",
    "\n",
    "Here are a few examples of questions I can help answer by generating and then executing a SQLite query:\n",
    "\n",
    "- What are the total sales amounts by year?\n",
    "\n",
    "- What are the top 5 most expensive products? \n",
    "\n",
    "- What is the total revenue for each employee?\n",
    "\n",
    "\n",
    "\n",
    "\"\"\""
   ]
  },
  {
   "cell_type": "markdown",
   "id": "ac3e68fd-9a8e-4b7c-a187-6a10cd7eaf62",
   "metadata": {
    "tags": []
   },
   "source": [
    "### <a name=\"10\">Code generation examples </a>\n",
    "(<a href=\"#0\">Go to top</a>)\n",
    "\n",
    "For this demo, we query the LLM to generate code snippets for UI and back-end/middle tier. Change the question to generate the code in different programming languages like Python, JavaScript, Java and others.\n",
    "\n",
    "<center><img src=\"images/agents-codecall.drawio.png\" alt=\"architecture diagram for lab 3 to demonstrate the conditional workflow for LLMs.The same design diagram from earlier in the notebook, but we have highlighted the area that shows we will be working on code generation and explanation piece of the AI assistant.\" width=\"600\" height=\"600\" style=\"background-color:white; padding:1em;\" /></center> <br/>\n",
    "\n"
   ]
  },
  {
   "cell_type": "code",
   "execution_count": null,
   "id": "39cb2dfc-431c-44ef-a619-7b6633712617",
   "metadata": {
    "tags": []
   },
   "outputs": [],
   "source": [
    "question = \"Write a python function to validate email address syntax.\""
   ]
  },
  {
   "cell_type": "code",
   "execution_count": null,
   "id": "1fafd9dc-4a24-4ddf-967d-cfd62ddb24eb",
   "metadata": {
    "tags": []
   },
   "outputs": [],
   "source": [
    "%load_ext autoreload\n",
    "%autoreload 2\n",
    "%reload_ext autoreload\n",
    "from mlu_utils.agents_utils import *"
   ]
  },
  {
   "cell_type": "code",
   "execution_count": null,
   "id": "d56fd613-b8a9-430a-82dc-2ec62a2021b9",
   "metadata": {
    "tags": []
   },
   "outputs": [],
   "source": [
    "%%time\n",
    "# Extract the agentAliasId from the response\n",
    "agent_alias_id = agent_alias['agentAlias']['agentAliasId']\n",
    "\n",
    "session_id:str = str(uuid.uuid1()) # random identifier\n",
    "enable_trace:bool = True\n",
    "end_session:bool = False\n",
    "\n",
    "print(f\"session_id :::: {session_id}\")\n",
    "\n",
    "final_answer = invoke_agent_generate_response(bedrock_agent_runtime_client,\n",
    "                                               USER_PROMPT_TEMPLATE.format(question=question),\n",
    "                                               agent_id, \n",
    "                                               agent_alias_id, \n",
    "                                               session_id, \n",
    "                                               enable_trace,\n",
    "                                               end_session,\n",
    "                                               trace_filename_prefix = 'lab3_agent_trace',\n",
    "                                               turn_number = 1)"
   ]
  },
  {
   "cell_type": "code",
   "execution_count": null,
   "id": "72fbe3c9-c32f-44a6-8579-1d432a15036e",
   "metadata": {
    "tags": []
   },
   "outputs": [],
   "source": [
    "# And here is the response if you just want to see agent's reply\n",
    "format_final_response(question=question, final_answer=final_answer, lab_number=\"3\", turn_number=\"1\", gen_sql=False)"
   ]
  },
  {
   "cell_type": "code",
   "execution_count": null,
   "id": "cbe7ea9f-b569-4a1d-9ba0-9399c7ef22e7",
   "metadata": {
    "tags": []
   },
   "outputs": [],
   "source": [
    "# Deep dive into agent-workflow steps in each of the tab\n",
    "%load_ext autoreload\n",
    "%autoreload 2\n",
    "from mlu_utils.show_trace_widget import *\n",
    "\n",
    "show_tabs(trace_filename_prefix = 'lab3_agent_trace', turn_number = 1)\n",
    "display(out_3_tabs_1)"
   ]
  },
  {
   "cell_type": "code",
   "execution_count": null,
   "id": "dbc77c64-5cbe-484a-b35f-43c77a6c7bd7",
   "metadata": {},
   "outputs": [],
   "source": [
    "# Wait for tab output async processes to complete\n",
    "time.sleep(10)"
   ]
  },
  {
   "cell_type": "code",
   "execution_count": null,
   "id": "8a24f6c7-fe3e-4942-a9ee-76b83352f6e6",
   "metadata": {
    "tags": []
   },
   "outputs": [],
   "source": [
    "%%time\n",
    "# Using Claude-v3 sonnet to generate a summary of the agent's workflow for this conversation turn\n",
    "turn_1_summary = summarize_agent_trace(trace_file_base_path= \"trace_files/\", lab_number=\"3\", turn_number=\"1\")\n",
    "with out_3_turn_1_summary:\n",
    "    out_3_turn_1_summary.clear_output()\n",
    "    display(Markdown(turn_1_summary))"
   ]
  },
  {
   "cell_type": "code",
   "execution_count": null,
   "id": "b9c1c2ea-ff18-4e72-8ecc-ddbb7d14bcfc",
   "metadata": {
    "tags": []
   },
   "outputs": [],
   "source": [
    "\n",
    "## Display the summary of the agent workflow trace\n",
    "display(out_3_turn_1_summary)"
   ]
  },
  {
   "cell_type": "code",
   "execution_count": null,
   "id": "fcad3f5f-5e9c-4475-b99e-de78212cda14",
   "metadata": {
    "tags": []
   },
   "outputs": [],
   "source": [
    "code_to_explain = None\n",
    "with open(\"mlu_utils/summarize_agent_trace.py\", \"r\") as code_fp:\n",
    "    code_to_explain = code_fp.read()\n",
    "\n",
    "with out:\n",
    "    out.clear_output()\n",
    "    # display first 500 characters of the py file \n",
    "    display(Markdown(code_to_explain[:450]))\n",
    "\n",
    "display(out)"
   ]
  },
  {
   "cell_type": "code",
   "execution_count": null,
   "id": "78230eaf-1804-4da3-9bb8-ba095957137a",
   "metadata": {
    "tags": []
   },
   "outputs": [],
   "source": [
    "question = f\"Explain the following code in lucid, natural language to me. \\n code to explain : \\n {code_to_explain}\""
   ]
  },
  {
   "cell_type": "code",
   "execution_count": null,
   "id": "a7b22f89-4bbf-4458-87e1-deb82ac8f08d",
   "metadata": {
    "tags": []
   },
   "outputs": [],
   "source": [
    "# Extract the agentAliasId from the response\n",
    "agent_alias_id = agent_alias['agentAlias']['agentAliasId']\n",
    "\n",
    "\n",
    "\n",
    "session_id:str = str(uuid.uuid1()) # random identifier\n",
    "enable_trace:bool = True\n",
    "end_session:bool = False\n",
    "\n",
    "print(f\"session_id :::: {session_id}\")\n",
    "\n",
    "final_answer = invoke_agent_generate_response(bedrock_agent_runtime_client,\n",
    "                                               USER_PROMPT_TEMPLATE.format(question=question),\n",
    "                                               agent_id, \n",
    "                                               agent_alias_id, \n",
    "                                               session_id, \n",
    "                                               enable_trace,\n",
    "                                               end_session,\n",
    "                                               trace_filename_prefix = 'lab3_agent_trace',\n",
    "                                               turn_number = 2)\n",
    "\n"
   ]
  },
  {
   "cell_type": "code",
   "execution_count": null,
   "id": "fd15270e-3b2c-4f3c-bd2c-cdb304699d3d",
   "metadata": {
    "tags": []
   },
   "outputs": [],
   "source": [
    "# And here is the response if you just want to see agent's reply\n",
    "format_final_response(question=question, final_answer=final_answer, lab_number=\"3\", turn_number=\"2\", gen_sql=False)"
   ]
  },
  {
   "cell_type": "code",
   "execution_count": null,
   "id": "74220d96-734e-4bfe-bf8f-e941902d6ed3",
   "metadata": {
    "tags": []
   },
   "outputs": [],
   "source": [
    "# Deep dive into agent-workflow steps in each of the tabs\n",
    "%load_ext autoreload\n",
    "%autoreload 2\n",
    "from mlu_utils.show_trace_widget import *\n",
    "\n",
    "show_tabs(trace_filename_prefix = 'lab3_agent_trace', turn_number = 2)\n",
    "display(out_3_tabs_2)"
   ]
  },
  {
   "cell_type": "code",
   "execution_count": null,
   "id": "27c50490-d91e-4785-bebb-d538a3a58a53",
   "metadata": {
    "tags": []
   },
   "outputs": [],
   "source": [
    "# Wait for tab output async processes to complete\n",
    "time.sleep(10)"
   ]
  },
  {
   "cell_type": "code",
   "execution_count": null,
   "id": "b0cd9558-40d9-47d0-a24f-367edbbff626",
   "metadata": {
    "tags": []
   },
   "outputs": [],
   "source": [
    "%%time\n",
    "# Using Claude-v3 Sonnet to generate a summary of the agent's workflow for this conversation turn\n",
    "turn_2_summary = summarize_agent_trace(trace_file_base_path= \"trace_files/\", lab_number=\"3\", turn_number=\"2\")\n",
    "with out_3_turn_2_summary:\n",
    "    out_3_turn_2_summary.clear_output()\n",
    "    display(Markdown(turn_2_summary))"
   ]
  },
  {
   "cell_type": "code",
   "execution_count": null,
   "id": "127910ac-eecc-46ac-bf88-f33bf06e82d4",
   "metadata": {
    "tags": []
   },
   "outputs": [],
   "source": [
    "## Display the summary of the Agent workflow trace\n",
    "display(out_3_turn_2_summary)"
   ]
  },
  {
   "cell_type": "markdown",
   "id": "6f336cb6-af7b-4153-ab4d-cbed3c12b875",
   "metadata": {
    "tags": []
   },
   "source": [
    "\n",
    "### <a name=\"11\">System design Q&A with AWS Well-Architected Framework</a>\n",
    "(<a href=\"#0\">Go to top</a>)\n",
    "\n",
    "For this demo, we query the LLM to recommend system design setup and best practices based on the robust AWS Well-Architected Framework. \n",
    "\n",
    "<center><img src=\"images/agents-awscall.drawio.png\" alt=\"architecture diagram for lab 3 to demonstrate the conditional workflow for LLMs.The same design diagram from earlier in the notebook, but we have highlighted the area that shows we will be working on the AWS Well-Architected Framework for knowledge base inquiry.\" width=\"600\" height=\"600\" style=\"background-color:white; padding:1em;\" /></center> <br/>\n",
    "\n"
   ]
  },
  {
   "cell_type": "code",
   "execution_count": null,
   "id": "cfeab606-7be1-46a6-9d48-f7dcf5202203",
   "metadata": {
    "tags": []
   },
   "outputs": [],
   "source": [
    "question = \"How can I design secure VPCs?\""
   ]
  },
  {
   "cell_type": "code",
   "execution_count": null,
   "id": "fb467485-ab03-4a2f-90ba-962659b2a447",
   "metadata": {
    "tags": []
   },
   "outputs": [],
   "source": [
    "# Extract the agentAliasId from the response\n",
    "agent_alias_id = agent_alias['agentAlias']['agentAliasId']\n",
    "\n",
    "\n",
    "session_id:str = str(uuid.uuid1()) # random identifier\n",
    "enable_trace:bool = True\n",
    "end_session:bool = False\n",
    "\n",
    "print(f\"session_id :::: {session_id}\")\n",
    "\n",
    "final_answer = invoke_agent_generate_response(bedrock_agent_runtime_client,\n",
    "                                               USER_PROMPT_TEMPLATE.format(question=question),\n",
    "                                               agent_id, \n",
    "                                               agent_alias_id, \n",
    "                                               session_id, \n",
    "                                               enable_trace,\n",
    "                                               end_session,\n",
    "                                               trace_filename_prefix = 'lab3_agent_trace',\n",
    "                                               turn_number = 3)\n"
   ]
  },
  {
   "cell_type": "code",
   "execution_count": null,
   "id": "0324166c-d006-4d1e-8e09-f18fa2884bc9",
   "metadata": {
    "tags": []
   },
   "outputs": [],
   "source": [
    "# And here is the response if you just want to see agent's reply\n",
    "format_final_response(question=question, final_answer=final_answer, lab_number=\"3\", turn_number=\"3\", gen_sql=False)"
   ]
  },
  {
   "cell_type": "code",
   "execution_count": null,
   "id": "5e88eb31-4590-4fc5-a321-fec4ce4cc0d9",
   "metadata": {
    "tags": []
   },
   "outputs": [],
   "source": [
    "# Deep dive into Agent-workflow steps in each of the tabs\n",
    "%load_ext autoreload\n",
    "%autoreload 2\n",
    "from mlu_utils.show_trace_widget import *\n",
    "\n",
    "show_tabs(trace_filename_prefix = 'lab3_agent_trace', turn_number = 3)\n",
    "display(out_3_tabs_3)"
   ]
  },
  {
   "cell_type": "code",
   "execution_count": null,
   "id": "90af5d99-38ea-49c3-9f8d-5a8ba61c1b70",
   "metadata": {},
   "outputs": [],
   "source": [
    "# Wait for tab output async processes to complete\n",
    "time.sleep(10)"
   ]
  },
  {
   "cell_type": "code",
   "execution_count": null,
   "id": "f7a5135b-f332-4aa8-8946-459766b5637f",
   "metadata": {
    "tags": []
   },
   "outputs": [],
   "source": [
    "%%time\n",
    "# Using Claude-v3 Sonnet to generate a summary of the agent's workflow for this conversation turn\n",
    "turn_3_summary = summarize_agent_trace(trace_file_base_path= \"trace_files/\", lab_number=\"3\", turn_number=\"3\")\n",
    "with out_3_turn_3_summary:\n",
    "    out_3_turn_3_summary.clear_output()\n",
    "    display(Markdown(turn_3_summary))"
   ]
  },
  {
   "cell_type": "code",
   "execution_count": null,
   "id": "df98e478-d733-4a7a-a050-4780afc61aef",
   "metadata": {
    "tags": []
   },
   "outputs": [],
   "source": [
    "## Display the summary of the agent workflow trace\n",
    "display(out_3_turn_3_summary)"
   ]
  },
  {
   "cell_type": "markdown",
   "id": "af3cdc78-09b6-470f-90d6-f8b75142eed9",
   "metadata": {},
   "source": [
    "### <a name=\"12\">SQL generation and execution against a database</a>\n",
    "(<a href=\"#0\">Go to top</a>)\n",
    "\n",
    "For this demo, we query the LLM to generate SQL code based on a database schema of our choice and execute it against a database to validate the accuracy of the generated code.\n",
    "\n",
    "<center><img src=\"images/agents-SQLcall.drawio.png\" alt=\"architecture diagram for lab 3 to demonstrate the conditional workflow for LLMs.The same design diagram from earlier in the notebook, but we have highlighted the area that shows we will be working on the Text to SQL generation from natural language questions.\" width=\"600\" height=\"600\" style=\"background-color:white; padding:1em;\" /></center> <br/>\n",
    "\n"
   ]
  },
  {
   "cell_type": "code",
   "execution_count": null,
   "id": "8838323d-b5ea-45da-8e7b-5ea8c3f0e17d",
   "metadata": {
    "tags": []
   },
   "outputs": [],
   "source": [
    "question = \"What are the total sales amounts by year?\""
   ]
  },
  {
   "cell_type": "code",
   "execution_count": null,
   "id": "a847f9d5-a4e7-48ad-a3ba-b4e5fedc5973",
   "metadata": {
    "tags": []
   },
   "outputs": [],
   "source": [
    "# Extract the agentAliasId from the response\n",
    "agent_alias_id = agent_alias['agentAlias']['agentAliasId']\n",
    "\n",
    "\n",
    "## Create a random id for session initiator id\n",
    "session_id:str = str(uuid.uuid1()) # random identifier\n",
    "enable_trace:bool = True\n",
    "end_session:bool = False\n",
    "\n",
    "print(f\"session_id :::: {session_id}\")\n",
    "\n",
    "final_answer = invoke_agent_generate_response(bedrock_agent_runtime_client,\n",
    "                                               USER_PROMPT_TEMPLATE.format(question=question), \n",
    "                                               agent_id, \n",
    "                                               agent_alias_id, \n",
    "                                               session_id, \n",
    "                                               enable_trace,\n",
    "                                               end_session,\n",
    "                                               trace_filename_prefix = 'lab3_agent_trace',\n",
    "                                               turn_number = 4)\n",
    "\n"
   ]
  },
  {
   "cell_type": "code",
   "execution_count": null,
   "id": "11638c2c-69a8-4d89-bdf9-ab3b79599870",
   "metadata": {
    "tags": []
   },
   "outputs": [],
   "source": [
    "# And here is the response if you just want to see agent's reply\n",
    "%load_ext autoreload\n",
    "%autoreload 2\n",
    "from mlu_utils.agents_utils import *\n",
    "format_final_response(question=question, final_answer=final_answer, lab_number=\"3\", turn_number=\"4\", gen_sql=True)"
   ]
  },
  {
   "cell_type": "code",
   "execution_count": null,
   "id": "ba9fe4cd-94c4-470f-894a-683a10d20601",
   "metadata": {
    "tags": []
   },
   "outputs": [],
   "source": [
    "# Deep dive into Agent-workflow steps in each of the tabs\n",
    "%load_ext autoreload\n",
    "%autoreload 2\n",
    "from mlu_utils.show_trace_widget import *\n",
    "\n",
    "show_tabs(trace_filename_prefix = 'lab3_agent_trace', turn_number = 4)\n",
    "display(out_3_tabs_4)"
   ]
  },
  {
   "cell_type": "code",
   "execution_count": null,
   "id": "a92da723-a400-44cb-8b3b-a1ad213f1eec",
   "metadata": {},
   "outputs": [],
   "source": [
    "# Wait for tab output async processes to complete\n",
    "time.sleep(10)"
   ]
  },
  {
   "cell_type": "code",
   "execution_count": null,
   "id": "af7339c2-53a4-4f44-b407-e8c5f3bcf2db",
   "metadata": {
    "tags": []
   },
   "outputs": [],
   "source": [
    "%%time\n",
    "# Using Claude-v3 Sonnet to generate a summary of the agent's workflow for this conversation turn\n",
    "turn_4_summary = summarize_agent_trace(trace_file_base_path= \"trace_files/\", lab_number=\"3\", turn_number=\"4\")\n",
    "with out_3_turn_4_summary:\n",
    "    out_3_turn_4_summary.clear_output()\n",
    "    display(Markdown(turn_4_summary))"
   ]
  },
  {
   "cell_type": "code",
   "execution_count": null,
   "id": "d01a69b7-02ae-41af-bffc-092402af971e",
   "metadata": {
    "tags": []
   },
   "outputs": [],
   "source": [
    "## Display the summary of the agent workflow trace\n",
    "display(out_3_turn_4_summary)"
   ]
  },
  {
   "cell_type": "markdown",
   "id": "9a81ac3f-a880-446b-99dd-7507b86a75c8",
   "metadata": {},
   "source": [
    "### <a name=\"9\">[Be Frugal] Clean up resources </a>\n",
    "(<a href=\"#0\">Go to top</a>)\n"
   ]
  },
  {
   "cell_type": "markdown",
   "id": "636168de-bc90-46d2-a7c5-43e0904b0fc5",
   "metadata": {
    "tags": []
   },
   "source": [
    "##### In the following cell, we offer an option raise an exception to avoid auto-executing the next block of lines and optionally clean up all resources. This is useful when the `Kernel > run all` option is used.\n",
    "\n",
    "`Please be frugal if you choose to enable this exception in the code cell below. By default it is disabled and all resources will be cleaned up immediately to avoid additional costs.`\n",
    "\n",
    "##### Within the same kernel session, this will allow experimentation with different prompts without having to recreate agent resources (takes ~5 minutes)"
   ]
  },
  {
   "cell_type": "code",
   "execution_count": null,
   "id": "d6aac2b7-dc28-4122-ab3e-5d3d28abd42d",
   "metadata": {
    "tags": []
   },
   "outputs": [],
   "source": [
    "# This avoids auto-cleanup\n",
    "raise Exception('Avoiding Auto-Cleanup of Bedrock Agent Resources')"
   ]
  },
  {
   "cell_type": "code",
   "execution_count": null,
   "id": "0ba0d062-8fdc-403d-bd6f-60ff918f07f8",
   "metadata": {},
   "outputs": [],
   "source": [
    "cleanup_infrastructure(agent_action_group_response, lambda_name, lambda_function, lambda_role_name, agent_id, agent_alias_id, agent_role_name, bucket_name, schema_key, agent_bedrock_policy, agent_s3_schema_policy, agent_kb_schema_policy, kb_db_bedrock_policy, kb_db_aoss_policy, kb_db_s3_policy, kb_db_role_name, kb_db_collection_name, kb_db_opensearch_collection_response, knowledge_base_db_id, kb_aws_bedrock_policy, kb_aws_aoss_policy, kb_aws_s3_policy, kb_aws_role_name, kb_aws_collection_name, kb_aws_opensearch_collection_response, knowledge_base_aws_id)"
   ]
  },
  {
   "cell_type": "code",
   "execution_count": null,
   "id": "091af395-6d6b-45ae-a7c7-78ee6c58cb00",
   "metadata": {},
   "outputs": [],
   "source": [
    "## Cleanup S3 separately - it has 2 KBs with GBs of data\n",
    "s3 = boto3.resource('s3')\n",
    "bucket = s3.Bucket(bucket_name)\n",
    "bucket.objects.all().delete()\n",
    "\n",
    "s3_client.delete_bucket(Bucket=bucket_name)\n",
    "print(f\"\\n bucket DELETED :: {bucket_name}\")\n"
   ]
  },
  {
   "cell_type": "markdown",
   "id": "47ce5c54-3e54-40fc-aa10-d7ec785ea832",
   "metadata": {},
   "source": [
    "## Conclusion\n",
    "We have now experimented with using `boto3` SDK to create, invoke and delete an agent.\n",
    "\n",
    "### Take aways\n",
    "- Adapt this notebook to create new agents for your application\n",
    "\n",
    "## Thank You"
   ]
  }
 ],
 "metadata": {
  "availableInstances": [
   {
    "_defaultOrder": 0,
    "_isFastLaunch": true,
    "category": "General purpose",
    "gpuNum": 0,
    "hideHardwareSpecs": false,
    "memoryGiB": 4,
    "name": "ml.t3.medium",
    "vcpuNum": 2
   },
   {
    "_defaultOrder": 1,
    "_isFastLaunch": false,
    "category": "General purpose",
    "gpuNum": 0,
    "hideHardwareSpecs": false,
    "memoryGiB": 8,
    "name": "ml.t3.large",
    "vcpuNum": 2
   },
   {
    "_defaultOrder": 2,
    "_isFastLaunch": false,
    "category": "General purpose",
    "gpuNum": 0,
    "hideHardwareSpecs": false,
    "memoryGiB": 16,
    "name": "ml.t3.xlarge",
    "vcpuNum": 4
   },
   {
    "_defaultOrder": 3,
    "_isFastLaunch": false,
    "category": "General purpose",
    "gpuNum": 0,
    "hideHardwareSpecs": false,
    "memoryGiB": 32,
    "name": "ml.t3.2xlarge",
    "vcpuNum": 8
   },
   {
    "_defaultOrder": 4,
    "_isFastLaunch": true,
    "category": "General purpose",
    "gpuNum": 0,
    "hideHardwareSpecs": false,
    "memoryGiB": 8,
    "name": "ml.m5.large",
    "vcpuNum": 2
   },
   {
    "_defaultOrder": 5,
    "_isFastLaunch": false,
    "category": "General purpose",
    "gpuNum": 0,
    "hideHardwareSpecs": false,
    "memoryGiB": 16,
    "name": "ml.m5.xlarge",
    "vcpuNum": 4
   },
   {
    "_defaultOrder": 6,
    "_isFastLaunch": false,
    "category": "General purpose",
    "gpuNum": 0,
    "hideHardwareSpecs": false,
    "memoryGiB": 32,
    "name": "ml.m5.2xlarge",
    "vcpuNum": 8
   },
   {
    "_defaultOrder": 7,
    "_isFastLaunch": false,
    "category": "General purpose",
    "gpuNum": 0,
    "hideHardwareSpecs": false,
    "memoryGiB": 64,
    "name": "ml.m5.4xlarge",
    "vcpuNum": 16
   },
   {
    "_defaultOrder": 8,
    "_isFastLaunch": false,
    "category": "General purpose",
    "gpuNum": 0,
    "hideHardwareSpecs": false,
    "memoryGiB": 128,
    "name": "ml.m5.8xlarge",
    "vcpuNum": 32
   },
   {
    "_defaultOrder": 9,
    "_isFastLaunch": false,
    "category": "General purpose",
    "gpuNum": 0,
    "hideHardwareSpecs": false,
    "memoryGiB": 192,
    "name": "ml.m5.12xlarge",
    "vcpuNum": 48
   },
   {
    "_defaultOrder": 10,
    "_isFastLaunch": false,
    "category": "General purpose",
    "gpuNum": 0,
    "hideHardwareSpecs": false,
    "memoryGiB": 256,
    "name": "ml.m5.16xlarge",
    "vcpuNum": 64
   },
   {
    "_defaultOrder": 11,
    "_isFastLaunch": false,
    "category": "General purpose",
    "gpuNum": 0,
    "hideHardwareSpecs": false,
    "memoryGiB": 384,
    "name": "ml.m5.24xlarge",
    "vcpuNum": 96
   },
   {
    "_defaultOrder": 12,
    "_isFastLaunch": false,
    "category": "General purpose",
    "gpuNum": 0,
    "hideHardwareSpecs": false,
    "memoryGiB": 8,
    "name": "ml.m5d.large",
    "vcpuNum": 2
   },
   {
    "_defaultOrder": 13,
    "_isFastLaunch": false,
    "category": "General purpose",
    "gpuNum": 0,
    "hideHardwareSpecs": false,
    "memoryGiB": 16,
    "name": "ml.m5d.xlarge",
    "vcpuNum": 4
   },
   {
    "_defaultOrder": 14,
    "_isFastLaunch": false,
    "category": "General purpose",
    "gpuNum": 0,
    "hideHardwareSpecs": false,
    "memoryGiB": 32,
    "name": "ml.m5d.2xlarge",
    "vcpuNum": 8
   },
   {
    "_defaultOrder": 15,
    "_isFastLaunch": false,
    "category": "General purpose",
    "gpuNum": 0,
    "hideHardwareSpecs": false,
    "memoryGiB": 64,
    "name": "ml.m5d.4xlarge",
    "vcpuNum": 16
   },
   {
    "_defaultOrder": 16,
    "_isFastLaunch": false,
    "category": "General purpose",
    "gpuNum": 0,
    "hideHardwareSpecs": false,
    "memoryGiB": 128,
    "name": "ml.m5d.8xlarge",
    "vcpuNum": 32
   },
   {
    "_defaultOrder": 17,
    "_isFastLaunch": false,
    "category": "General purpose",
    "gpuNum": 0,
    "hideHardwareSpecs": false,
    "memoryGiB": 192,
    "name": "ml.m5d.12xlarge",
    "vcpuNum": 48
   },
   {
    "_defaultOrder": 18,
    "_isFastLaunch": false,
    "category": "General purpose",
    "gpuNum": 0,
    "hideHardwareSpecs": false,
    "memoryGiB": 256,
    "name": "ml.m5d.16xlarge",
    "vcpuNum": 64
   },
   {
    "_defaultOrder": 19,
    "_isFastLaunch": false,
    "category": "General purpose",
    "gpuNum": 0,
    "hideHardwareSpecs": false,
    "memoryGiB": 384,
    "name": "ml.m5d.24xlarge",
    "vcpuNum": 96
   },
   {
    "_defaultOrder": 20,
    "_isFastLaunch": false,
    "category": "General purpose",
    "gpuNum": 0,
    "hideHardwareSpecs": true,
    "memoryGiB": 0,
    "name": "ml.geospatial.interactive",
    "supportedImageNames": [
     "sagemaker-geospatial-v1-0"
    ],
    "vcpuNum": 0
   },
   {
    "_defaultOrder": 21,
    "_isFastLaunch": true,
    "category": "Compute optimized",
    "gpuNum": 0,
    "hideHardwareSpecs": false,
    "memoryGiB": 4,
    "name": "ml.c5.large",
    "vcpuNum": 2
   },
   {
    "_defaultOrder": 22,
    "_isFastLaunch": false,
    "category": "Compute optimized",
    "gpuNum": 0,
    "hideHardwareSpecs": false,
    "memoryGiB": 8,
    "name": "ml.c5.xlarge",
    "vcpuNum": 4
   },
   {
    "_defaultOrder": 23,
    "_isFastLaunch": false,
    "category": "Compute optimized",
    "gpuNum": 0,
    "hideHardwareSpecs": false,
    "memoryGiB": 16,
    "name": "ml.c5.2xlarge",
    "vcpuNum": 8
   },
   {
    "_defaultOrder": 24,
    "_isFastLaunch": false,
    "category": "Compute optimized",
    "gpuNum": 0,
    "hideHardwareSpecs": false,
    "memoryGiB": 32,
    "name": "ml.c5.4xlarge",
    "vcpuNum": 16
   },
   {
    "_defaultOrder": 25,
    "_isFastLaunch": false,
    "category": "Compute optimized",
    "gpuNum": 0,
    "hideHardwareSpecs": false,
    "memoryGiB": 72,
    "name": "ml.c5.9xlarge",
    "vcpuNum": 36
   },
   {
    "_defaultOrder": 26,
    "_isFastLaunch": false,
    "category": "Compute optimized",
    "gpuNum": 0,
    "hideHardwareSpecs": false,
    "memoryGiB": 96,
    "name": "ml.c5.12xlarge",
    "vcpuNum": 48
   },
   {
    "_defaultOrder": 27,
    "_isFastLaunch": false,
    "category": "Compute optimized",
    "gpuNum": 0,
    "hideHardwareSpecs": false,
    "memoryGiB": 144,
    "name": "ml.c5.18xlarge",
    "vcpuNum": 72
   },
   {
    "_defaultOrder": 28,
    "_isFastLaunch": false,
    "category": "Compute optimized",
    "gpuNum": 0,
    "hideHardwareSpecs": false,
    "memoryGiB": 192,
    "name": "ml.c5.24xlarge",
    "vcpuNum": 96
   },
   {
    "_defaultOrder": 29,
    "_isFastLaunch": true,
    "category": "Accelerated computing",
    "gpuNum": 1,
    "hideHardwareSpecs": false,
    "memoryGiB": 16,
    "name": "ml.g4dn.xlarge",
    "vcpuNum": 4
   },
   {
    "_defaultOrder": 30,
    "_isFastLaunch": false,
    "category": "Accelerated computing",
    "gpuNum": 1,
    "hideHardwareSpecs": false,
    "memoryGiB": 32,
    "name": "ml.g4dn.2xlarge",
    "vcpuNum": 8
   },
   {
    "_defaultOrder": 31,
    "_isFastLaunch": false,
    "category": "Accelerated computing",
    "gpuNum": 1,
    "hideHardwareSpecs": false,
    "memoryGiB": 64,
    "name": "ml.g4dn.4xlarge",
    "vcpuNum": 16
   },
   {
    "_defaultOrder": 32,
    "_isFastLaunch": false,
    "category": "Accelerated computing",
    "gpuNum": 1,
    "hideHardwareSpecs": false,
    "memoryGiB": 128,
    "name": "ml.g4dn.8xlarge",
    "vcpuNum": 32
   },
   {
    "_defaultOrder": 33,
    "_isFastLaunch": false,
    "category": "Accelerated computing",
    "gpuNum": 4,
    "hideHardwareSpecs": false,
    "memoryGiB": 192,
    "name": "ml.g4dn.12xlarge",
    "vcpuNum": 48
   },
   {
    "_defaultOrder": 34,
    "_isFastLaunch": false,
    "category": "Accelerated computing",
    "gpuNum": 1,
    "hideHardwareSpecs": false,
    "memoryGiB": 256,
    "name": "ml.g4dn.16xlarge",
    "vcpuNum": 64
   },
   {
    "_defaultOrder": 35,
    "_isFastLaunch": false,
    "category": "Accelerated computing",
    "gpuNum": 1,
    "hideHardwareSpecs": false,
    "memoryGiB": 61,
    "name": "ml.p3.2xlarge",
    "vcpuNum": 8
   },
   {
    "_defaultOrder": 36,
    "_isFastLaunch": false,
    "category": "Accelerated computing",
    "gpuNum": 4,
    "hideHardwareSpecs": false,
    "memoryGiB": 244,
    "name": "ml.p3.8xlarge",
    "vcpuNum": 32
   },
   {
    "_defaultOrder": 37,
    "_isFastLaunch": false,
    "category": "Accelerated computing",
    "gpuNum": 8,
    "hideHardwareSpecs": false,
    "memoryGiB": 488,
    "name": "ml.p3.16xlarge",
    "vcpuNum": 64
   },
   {
    "_defaultOrder": 38,
    "_isFastLaunch": false,
    "category": "Accelerated computing",
    "gpuNum": 8,
    "hideHardwareSpecs": false,
    "memoryGiB": 768,
    "name": "ml.p3dn.24xlarge",
    "vcpuNum": 96
   },
   {
    "_defaultOrder": 39,
    "_isFastLaunch": false,
    "category": "Memory Optimized",
    "gpuNum": 0,
    "hideHardwareSpecs": false,
    "memoryGiB": 16,
    "name": "ml.r5.large",
    "vcpuNum": 2
   },
   {
    "_defaultOrder": 40,
    "_isFastLaunch": false,
    "category": "Memory Optimized",
    "gpuNum": 0,
    "hideHardwareSpecs": false,
    "memoryGiB": 32,
    "name": "ml.r5.xlarge",
    "vcpuNum": 4
   },
   {
    "_defaultOrder": 41,
    "_isFastLaunch": false,
    "category": "Memory Optimized",
    "gpuNum": 0,
    "hideHardwareSpecs": false,
    "memoryGiB": 64,
    "name": "ml.r5.2xlarge",
    "vcpuNum": 8
   },
   {
    "_defaultOrder": 42,
    "_isFastLaunch": false,
    "category": "Memory Optimized",
    "gpuNum": 0,
    "hideHardwareSpecs": false,
    "memoryGiB": 128,
    "name": "ml.r5.4xlarge",
    "vcpuNum": 16
   },
   {
    "_defaultOrder": 43,
    "_isFastLaunch": false,
    "category": "Memory Optimized",
    "gpuNum": 0,
    "hideHardwareSpecs": false,
    "memoryGiB": 256,
    "name": "ml.r5.8xlarge",
    "vcpuNum": 32
   },
   {
    "_defaultOrder": 44,
    "_isFastLaunch": false,
    "category": "Memory Optimized",
    "gpuNum": 0,
    "hideHardwareSpecs": false,
    "memoryGiB": 384,
    "name": "ml.r5.12xlarge",
    "vcpuNum": 48
   },
   {
    "_defaultOrder": 45,
    "_isFastLaunch": false,
    "category": "Memory Optimized",
    "gpuNum": 0,
    "hideHardwareSpecs": false,
    "memoryGiB": 512,
    "name": "ml.r5.16xlarge",
    "vcpuNum": 64
   },
   {
    "_defaultOrder": 46,
    "_isFastLaunch": false,
    "category": "Memory Optimized",
    "gpuNum": 0,
    "hideHardwareSpecs": false,
    "memoryGiB": 768,
    "name": "ml.r5.24xlarge",
    "vcpuNum": 96
   },
   {
    "_defaultOrder": 47,
    "_isFastLaunch": false,
    "category": "Accelerated computing",
    "gpuNum": 1,
    "hideHardwareSpecs": false,
    "memoryGiB": 16,
    "name": "ml.g5.xlarge",
    "vcpuNum": 4
   },
   {
    "_defaultOrder": 48,
    "_isFastLaunch": false,
    "category": "Accelerated computing",
    "gpuNum": 1,
    "hideHardwareSpecs": false,
    "memoryGiB": 32,
    "name": "ml.g5.2xlarge",
    "vcpuNum": 8
   },
   {
    "_defaultOrder": 49,
    "_isFastLaunch": false,
    "category": "Accelerated computing",
    "gpuNum": 1,
    "hideHardwareSpecs": false,
    "memoryGiB": 64,
    "name": "ml.g5.4xlarge",
    "vcpuNum": 16
   },
   {
    "_defaultOrder": 50,
    "_isFastLaunch": false,
    "category": "Accelerated computing",
    "gpuNum": 1,
    "hideHardwareSpecs": false,
    "memoryGiB": 128,
    "name": "ml.g5.8xlarge",
    "vcpuNum": 32
   },
   {
    "_defaultOrder": 51,
    "_isFastLaunch": false,
    "category": "Accelerated computing",
    "gpuNum": 1,
    "hideHardwareSpecs": false,
    "memoryGiB": 256,
    "name": "ml.g5.16xlarge",
    "vcpuNum": 64
   },
   {
    "_defaultOrder": 52,
    "_isFastLaunch": false,
    "category": "Accelerated computing",
    "gpuNum": 4,
    "hideHardwareSpecs": false,
    "memoryGiB": 192,
    "name": "ml.g5.12xlarge",
    "vcpuNum": 48
   },
   {
    "_defaultOrder": 53,
    "_isFastLaunch": false,
    "category": "Accelerated computing",
    "gpuNum": 4,
    "hideHardwareSpecs": false,
    "memoryGiB": 384,
    "name": "ml.g5.24xlarge",
    "vcpuNum": 96
   },
   {
    "_defaultOrder": 54,
    "_isFastLaunch": false,
    "category": "Accelerated computing",
    "gpuNum": 8,
    "hideHardwareSpecs": false,
    "memoryGiB": 768,
    "name": "ml.g5.48xlarge",
    "vcpuNum": 192
   },
   {
    "_defaultOrder": 55,
    "_isFastLaunch": false,
    "category": "Accelerated computing",
    "gpuNum": 8,
    "hideHardwareSpecs": false,
    "memoryGiB": 1152,
    "name": "ml.p4d.24xlarge",
    "vcpuNum": 96
   },
   {
    "_defaultOrder": 56,
    "_isFastLaunch": false,
    "category": "Accelerated computing",
    "gpuNum": 8,
    "hideHardwareSpecs": false,
    "memoryGiB": 1152,
    "name": "ml.p4de.24xlarge",
    "vcpuNum": 96
   },
   {
    "_defaultOrder": 57,
    "_isFastLaunch": false,
    "category": "Accelerated computing",
    "gpuNum": 0,
    "hideHardwareSpecs": false,
    "memoryGiB": 32,
    "name": "ml.trn1.2xlarge",
    "vcpuNum": 8
   },
   {
    "_defaultOrder": 58,
    "_isFastLaunch": false,
    "category": "Accelerated computing",
    "gpuNum": 0,
    "hideHardwareSpecs": false,
    "memoryGiB": 512,
    "name": "ml.trn1.32xlarge",
    "vcpuNum": 128
   },
   {
    "_defaultOrder": 59,
    "_isFastLaunch": false,
    "category": "Accelerated computing",
    "gpuNum": 0,
    "hideHardwareSpecs": false,
    "memoryGiB": 512,
    "name": "ml.trn1n.32xlarge",
    "vcpuNum": 128
   }
  ],
  "instance_type": "ml.t3.medium",
  "kernelspec": {
   "display_name": "Python 3",
   "language": "python",
   "name": "python3"
  },
  "language_info": {
   "codemirror_mode": {
    "name": "ipython",
    "version": 3
   },
   "file_extension": ".py",
   "mimetype": "text/x-python",
   "name": "python",
   "nbconvert_exporter": "python",
   "pygments_lexer": "ipython3",
   "version": "3.11.6"
  }
 },
 "nbformat": 4,
 "nbformat_minor": 5
}
