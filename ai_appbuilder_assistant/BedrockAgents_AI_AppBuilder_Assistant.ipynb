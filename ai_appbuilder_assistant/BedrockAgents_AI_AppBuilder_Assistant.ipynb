{
 "cells": [
  {
   "cell_type": "markdown",
   "id": "98851f24-a2f5-42c6-8435-219764f5af33",
   "metadata": {},
   "source": [
    "<center><img src=\"images/MLU-NEW-logo.png\" alt=\"drawing\" width=\"400\" style=\"background-color:white; padding:1em;\" /></center> <br/>\n",
    "\n",
    "\n",
    "# <a name=\"0\">Bedrock Agents-Based AI AppBuilder Assistant with Boto3 SDK </a>\n",
    "\n",
    "## Notebook Overview\n",
    "\n",
    "In this notebook, we build an agent to act as an Application Builder Assistant. Typically to build a three-tier software application, we need a user interface (UI component), middle tier (aka backend) for business APIs, and a database tier. With this assistant, we can generate SQL queries using a database schema (DDL: Data definition language) and execute them against a database instance, recommend software design best practices using the AWS Well-Architected Framework, and generate code snippets in many of the standard programming languages to improve developer productivity and facilitate rapid development of use-cases.\n",
    "\n",
    "<div style=\"border: 4px solid coral; text-align: left; margin: auto; padding-left: 20px; padding-right: 20px\">\n",
    "    <h4>This notebook auto-cleans up resources to be frugal. </h4>\n",
    "    You can visit this section (<a href=\"#10\"> Clean-up Resources</a>) to change the setting if you need to experiment with prompts and settings. Please run clean-up resources after you are done with experiments. <br/>\n",
    "</div>\n",
    "<br/>\n",
    "\n",
    "\n",
    "##### Notebook Kernel\n",
    "Please choose `conda_python3` as the kernel type of the top right corner of the notebook if that does not appear by default.\n",
    "\n",
    "\n",
    "## LLM Used\n",
    "Anthropic Claude 3.0\n",
    "\n",
    "## Use-Case Overview\n",
    "Lets look at when this Application Builder Assistant acts as a coding assistant vs recommends AWS Design Best Practices vs aids in SQL code generation and execution.\n",
    "\n",
    "First it is important to understand the type of task the user is asking for:\n",
    "\n",
    "Does the user want to write and validate SQL Query against a database?\n",
    "- If yes, use the existing DDL schemas to come up with the SQL query.\n",
    "\n",
    "Does the user want to author some code for say, helper functions like validate email?\n",
    "- If yes, use prompt engineering techniques to generate the email validation code.\n",
    "\n",
    "Does the user want recommendation on design best practices?\n",
    "- If yes, look up with AWS Well-Architected Knowledge Base.\n",
    "\n",
    "<center><img src=\"images/agents.drawio.png\" alt=\"architecture diagram for this notebook to demonstrate the conditional workflow for llms. This shows 3 workflows possible via this Application Builder Assistant. 1) Text to SQL - generate SQL statements via natural language and execute it against a local DB 2) web scraped knowledge base on AWS well architected framework - user can ask questions on it 3) Write and explain code via Claude LLM. User can ask any of these three types of questions making it an application builder assistant.\"  height=\"700\" width=\"700\" style=\"background-color:white; padding:1em;\" /></center> <br/>\n",
    "\n",
    "\n",
    "\n",
    "It demonstrates how to:\n",
    "1. Select the underlying foundation model (FM) for your agent \n",
    "2. Provide a clear and concise agent instruction \n",
    "3. Create and associate an action group with an API schema and a Lambda function \n",
    "4  Create and associate multiple knowledge bases (2 KBs in this notebook) with the agent\n",
    "5. Create, invoke, test, and deploy the agent\n",
    "6. Generate UI/Backend code with LLMs\n",
    "7. Recommend AWS best practices for system design with the AWS Well-Architected Framework guidelines\n",
    "8. Generate and execute/validate the SQL from natural language understanding via LLMs, few shot examples, and a database schema as a knowledge base\n",
    "9. Clean up resources (Be Frugal)\n",
    "\n",
    "\n",
    "We are using the Retrieval Augmented Generation (RAG) technique with Amazon Bedrock. A RAG implementation consists of two parts:\n",
    "\n",
    "    A data pipeline that ingests that from documents (typically stored in Amazon S3) into a knowledge base i.e. a vector database such as Amazon OpenSearch Service Serverless (AOSS) so that it is available for lookup when a question is received.\n",
    "\n",
    "    An application that receives a question from the user, looks up the knowledge base for relevant pieces of information (context) and then creates a prompt that includes the question and the context and provides it to an LLM for generating a response.\n",
    "\n",
    "The data pipeline represents an undifferentiated heavy lifting and can be implemented using Amazon Bedrock Agents for Knowledge Base. We can now connect an S3 bucket to a vector database such as AOSS and have a Bedrock Agent read the objects (html, pdf, text etc.), chunk them, and then convert these chunks into embeddings using Amazon Titan Embeddings model and then store these embeddings in AOSS. All of this without having to build, deploy, and manage the data pipeline.\n",
    "\n",
    "\n",
    "\n",
    "Once the data is available in the Bedrock knowledge base then user questions can be answered using the following system design:\n",
    "\n",
    "\n",
    "This notebook has the following sections:\n",
    "\n",
    "1. <a href=\"#1\">Environment configuration</a>\n",
    "2. <a href=\"#2\">Set up Bedrock for inference</a>\n",
    "3. <a href=\"#3\">Setup prefix variables for various agent resources</a>\n",
    "4. <a href=\"#4\">Creating an agent</a>\n",
    "5. <a href=\"#5\">Deploy agent and create agent alias</a>\n",
    "6. <a href=\"#6\">Invoke agent </a>\n",
    "7. <a href=\"#7\">Code generation examples</a>\n",
    "8. <a href=\"#8\">System design Q&A with the AWS Well-Architected Framework</a>\n",
    "9. <a href=\"#9\">SQL generation and execution against a database</a>\n",
    "10. <a href=\"#10\">Clean up resources</a>\n",
    "    \n",
    "Please work top to bottom of this notebook and don't skip sections as this could lead to error messages due to missing code.\n",
    "\n",
    "---"
   ]
  },
  {
   "cell_type": "markdown",
   "id": "8b54de30-fe9e-4b38-943a-330065bfa7ef",
   "metadata": {},
   "source": [
    "\n",
    "Let's start by installing all required packages as specified in the `requirements.txt` file and importing several libraries."
   ]
  },
  {
   "cell_type": "markdown",
   "id": "5463f03b-7f8b-4a95-a7c8-0caa46d6ae4b",
   "metadata": {},
   "source": [
    "\n",
    "## <a name=\"1\">Environment setup and configuration</a>\n",
    "(<a href=\"#0\">Go to top</a>)\n",
    "\n",
    "Before starting, let's import the required packages and configure the support variables:"
   ]
  },
  {
   "cell_type": "code",
   "execution_count": 1,
   "id": "f52a5a6f-8dc4-4d4e-bdf0-b40efc9a868d",
   "metadata": {},
   "outputs": [],
   "source": [
    "%%capture\n",
    "!pip3 install setuptools==58.2.0"
   ]
  },
  {
   "cell_type": "code",
   "execution_count": 2,
   "id": "cee3e166-5344-4fea-b066-3a89da77488a",
   "metadata": {},
   "outputs": [],
   "source": [
    "#%%capture\n",
    "!pip3 install -r requirements.txt --quiet"
   ]
  },
  {
   "cell_type": "code",
   "execution_count": 3,
   "id": "c7a21579-0989-453e-a4d8-e0a4e0b42181",
   "metadata": {},
   "outputs": [],
   "source": [
    "%%capture\n",
    "!pip3 install -U langchain-community\n",
    "!pip3 install -U opensearch-py\n",
    "!pip3 install -U requests_aws4auth"
   ]
  },
  {
   "cell_type": "code",
   "execution_count": 4,
   "id": "1b5428e2-37d0-4199-a234-33521ec995ad",
   "metadata": {
    "tags": []
   },
   "outputs": [
    {
     "name": "stderr",
     "output_type": "stream",
     "text": [
      "USER_AGENT environment variable not set, consider setting it to identify your requests.\n",
      "[2024-09-10 16:01:01,417] p31388 {credentials.py:1075} INFO - Found credentials from IAM Role: BaseNotebookInstanceEc2InstanceRole\n"
     ]
    }
   ],
   "source": [
    "import logging\n",
    "import boto3\n",
    "import random\n",
    "import time\n",
    "import zipfile\n",
    "from io import BytesIO\n",
    "import json\n",
    "import uuid\n",
    "import pprint\n",
    "import os, shutil\n",
    "from opensearchpy import OpenSearch, RequestsHttpConnection\n",
    "from requests_aws4auth import AWS4Auth\n",
    "from fetch_aws_best_practices import *\n",
    "\n",
    "from mlu_utils.agents_utils import *\n",
    "from mlu_utils.agents_infra_utils_with_two_kbs import *\n",
    "from mlu_utils.show_trace_widget import *\n",
    "from mlu_utils.summarize_agent_trace import *\n",
    "from IPython.display import Markdown"
   ]
  },
  {
   "cell_type": "code",
   "execution_count": 5,
   "id": "7565e33e-b441-4ab7-b3cc-79a297065fb3",
   "metadata": {
    "tags": []
   },
   "outputs": [],
   "source": [
    "# cleanup trace files to avoid issues\n",
    "trace_file_path = \"./trace_files/\"\n",
    "if os.path.isdir(trace_file_path):\n",
    "    shutil.rmtree(trace_file_path)\n",
    "os.mkdir('trace_files')"
   ]
  },
  {
   "cell_type": "code",
   "execution_count": 6,
   "id": "a8957183-9205-451a-8aab-04c4374d0587",
   "metadata": {
    "tags": []
   },
   "outputs": [],
   "source": [
    "clean_up_trace_files(\"./trace_files/\")"
   ]
  },
  {
   "cell_type": "code",
   "execution_count": 7,
   "id": "ea10158d-adb7-463e-ae3e-df72da6e850b",
   "metadata": {
    "tags": []
   },
   "outputs": [],
   "source": [
    "# setting logger\n",
    "logging.basicConfig(format='[%(asctime)s] p%(process)s {%(filename)s:%(lineno)d} %(levelname)s - %(message)s', level=logging.INFO)\n",
    "logger = logging.getLogger(__name__)\n",
    "\n",
    "pp = pprint.PrettyPrinter(width=41, compact=True)"
   ]
  },
  {
   "cell_type": "code",
   "execution_count": 8,
   "id": "e2b06569-9d1b-45f4-942f-6271d45ee97e",
   "metadata": {
    "tags": []
   },
   "outputs": [],
   "source": [
    "import ipywidgets as widgets\n",
    "from IPython.display import JSON\n",
    "out = widgets.Output(layout=widgets.Layout(border = '1px solid black', width = '100%',))\n",
    "\n",
    "out_3_tabs_1 = widgets.Output(layout=widgets.Layout(border = '1px solid black', width = '100%',))\n",
    "out_3_tabs_2 = widgets.Output(layout=widgets.Layout(border = '1px solid black', width = '100%',))\n",
    "out_3_tabs_3 = widgets.Output(layout=widgets.Layout(border = '1px solid black', width = '100%',))\n",
    "out_3_tabs_4 = widgets.Output(layout=widgets.Layout(border = '1px solid black', width = '100%',))\n",
    "\n",
    "out_3_turn_1_summary = widgets.Output(layout=widgets.Layout(border = '1px solid black', width = '100%',))\n",
    "out_3_turn_2_summary = widgets.Output(layout=widgets.Layout(border = '1px solid black', width = '100%',))\n",
    "out_3_turn_3_summary = widgets.Output(layout=widgets.Layout(border = '1px solid black', width = '100%',))\n",
    "out_3_turn_4_summary = widgets.Output(layout=widgets.Layout(border = '1px solid black', width = '100%',))\n"
   ]
  },
  {
   "cell_type": "markdown",
   "id": "2b84a1f4-9ecb-4e03-a252-7f6fe7832763",
   "metadata": {},
   "source": [
    "### <a name=\"2\">2. Set up Bedrock for inference</a>\n",
    "(<a href=\"#0\">Go to top</a>)\n",
    "\n",
    "To get started, set up Bedrock and instantiate an active `bedrock-runtime` to query LLMs. The code below leverages [LangChain's Bedrock integration](https://python.langchain.com/docs/integrations/llms/bedrock).\n",
    "```\n",
    "bedrock_agent_client = boto3.client('bedrock-agent')\n",
    "bedrock_agent_runtime_client = boto3.client('bedrock-agent-runtime')\n",
    "\n",
    "```\n",
    "\n",
    "</br>"
   ]
  },
  {
   "cell_type": "code",
   "execution_count": 9,
   "id": "89546d4c-0702-46c5-b75b-211b42bb8686",
   "metadata": {
    "tags": []
   },
   "outputs": [
    {
     "data": {
      "text/plain": [
       "('us-west-2', '122610495479')"
      ]
     },
     "execution_count": 9,
     "metadata": {},
     "output_type": "execute_result"
    }
   ],
   "source": [
    "bedrock_agent_client = boto3.client('bedrock-agent')\n",
    "bedrock_agent_runtime_client = boto3.client('bedrock-agent-runtime')\n",
    "open_search_serverless_client = boto3.client('opensearchserverless')\n",
    "\n",
    "# getting boto3 clients for required AWS services\n",
    "sts_client = boto3.client('sts')\n",
    "iam_client = boto3.client('iam')\n",
    "s3_client = boto3.client('s3')\n",
    "lambda_client = boto3.client('lambda')\n",
    "\n",
    "session = boto3.session.Session()\n",
    "region = session.region_name\n",
    "account_id = sts_client.get_caller_identity()[\"Account\"]\n",
    "region, account_id"
   ]
  },
  {
   "cell_type": "markdown",
   "id": "4ec89861-d8dc-4bef-b4f6-f07a6ff49a2b",
   "metadata": {},
   "source": [
    "### <a name=\"3\">3. Setup agent infrastructure</a>\n",
    "(<a href=\"#0\">Go to top</a>)\n",
    "\n",
    "This is the same set of instructions for infrastructure setup as provided in Lab 2a and includes how to:\n",
    "- Setup for prefix variables with various agent resources\n",
    "- Create Lambda function for action group\n",
    "- Create knowledge base 1 for SQL generation with Northwind Database\n",
    "- Create knowledge base 2 for system design recommendation with AWS Well-Architected Framework\n",
    "- Create an agent\n",
    "\n"
   ]
  },
  {
   "cell_type": "code",
   "execution_count": 10,
   "id": "c716e7f6-3288-4482-8fbf-d9ace69cc840",
   "metadata": {
    "tags": []
   },
   "outputs": [
    {
     "name": "stderr",
     "output_type": "stream",
     "text": [
      "[2024-09-10 16:01:03,248] p31388 {agents_infra_utils_with_two_kbs.py:55} INFO - random_uuid :: b9a8d36b-5a35-4458-9b9d-5e7171e5c884 prefix_infra :: l2b9a8d3 prefix_iam :: l25a35\n"
     ]
    },
    {
     "name": "stdout",
     "output_type": "stream",
     "text": [
      "agent_bedrock_policy :: arn:aws:iam::122610495479:policy/t20-SageMakerNotebookPolicy-q4W8Pqa2YQQY\n",
      "agent_s3_schema_policy :: None\n",
      "kb_db_bedrock_policy :: arn:aws:iam::122610495479:policy/t20-SageMakerNotebookPolicy-q4W8Pqa2YQQY\n",
      "kb_aws_bedrock_policy :: arn:aws:iam::122610495479:policy/t20-SageMakerNotebookPolicy-q4W8Pqa2YQQY\n",
      "kb_db_s3_policy :: None\n",
      "kb_db_aoss_policy :: None\n",
      "kb_aws_s3_policy :: None\n",
      "kb_aws_aoss_policy :: None\n",
      "Creating collection...\n",
      "Creating collection...\n",
      "Creating collection...\n",
      "Creating collection...\n",
      "Creating collection...\n",
      "Creating collection...\n",
      "Creating collection...\n"
     ]
    },
    {
     "name": "stderr",
     "output_type": "stream",
     "text": [
      "[2024-09-10 16:05:33,191] p31388 {credentials.py:1075} INFO - Found credentials from IAM Role: BaseNotebookInstanceEc2InstanceRole\n"
     ]
    },
    {
     "name": "stdout",
     "output_type": "stream",
     "text": [
      "\n",
      "Collection successfully created:\n"
     ]
    },
    {
     "name": "stderr",
     "output_type": "stream",
     "text": [
      "[2024-09-10 16:06:19,419] p31388 {base.py:258} INFO - PUT https://m9l1ri0752i5hgfqtdt7.us-west-2.aoss.amazonaws.com:443/kbdb-index-agents [status:200 request:1.182s]\n"
     ]
    },
    {
     "name": "stdout",
     "output_type": "stream",
     "text": [
      "\n",
      "Creating index:\n",
      "Creating collection...\n"
     ]
    },
    {
     "name": "stderr",
     "output_type": "stream",
     "text": [
      "[2024-09-10 16:08:22,581] p31388 {credentials.py:1075} INFO - Found credentials from IAM Role: BaseNotebookInstanceEc2InstanceRole\n"
     ]
    },
    {
     "name": "stdout",
     "output_type": "stream",
     "text": [
      "\n",
      "Collection successfully created:\n",
      "[{'arn': 'arn:aws:aoss:us-west-2:122610495479:collection/bqeo2xg08fxm9hv2uvik', 'collectionEndpoint': 'https://bqeo2xg08fxm9hv2uvik.us-west-2.aoss.amazonaws.com', 'createdDate': 1725984472320, 'dashboardEndpoint': 'https://bqeo2xg08fxm9hv2uvik.us-west-2.aoss.amazonaws.com/_dashboards', 'description': 'OpenSearch collection for Amazon Bedrock Knowledge Base for Northwind DB', 'id': 'bqeo2xg08fxm9hv2uvik', 'kmsKeyArn': 'auto', 'lastModifiedDate': 1725984495548, 'name': 'kbaws-collection-agents', 'standbyReplicas': 'DISABLED', 'status': 'ACTIVE', 'type': 'VECTORSEARCH'}]\n"
     ]
    },
    {
     "name": "stderr",
     "output_type": "stream",
     "text": [
      "[2024-09-10 16:09:08,031] p31388 {base.py:258} INFO - PUT https://bqeo2xg08fxm9hv2uvik.us-west-2.aoss.amazonaws.com:443/kbaws-index-agents [status:200 request:0.402s]\n"
     ]
    },
    {
     "name": "stdout",
     "output_type": "stream",
     "text": [
      "\n",
      "Creating index:\n"
     ]
    },
    {
     "name": "stderr",
     "output_type": "stream",
     "text": [
      "[2024-09-10 16:10:38,997] p31388 {agents_infra_utils_with_two_kbs.py:1304} INFO - agent_name :: l2b9a8d3-agent-kb \n",
      " agent_alias_name :: l2b9a8d3-workshop-alias \n",
      " agent_role :: {'Role': {'Path': '/', 'RoleName': 'AmazonBedrockExecutionRoleForAgentsAIAssistant01', 'RoleId': 'AROARZDBHV73ZB4GKWZKF', 'Arn': 'arn:aws:iam::122610495479:role/AmazonBedrockExecutionRoleForAgentsAIAssistant01', 'CreateDate': datetime.datetime(2024, 9, 10, 5, 53, 59, tzinfo=tzlocal()), 'AssumeRolePolicyDocument': {'Version': '2008-10-17', 'Statement': [{'Effect': 'Allow', 'Principal': {'Service': 'bedrock.amazonaws.com'}, 'Action': 'sts:AssumeRole'}]}, 'Description': '', 'MaxSessionDuration': 3600, 'RoleLastUsed': {'LastUsedDate': datetime.datetime(2024, 9, 10, 15, 42, 39, tzinfo=tzlocal()), 'Region': 'us-west-2'}}, 'ResponseMetadata': {'RequestId': '9deb1d76-7176-40c9-ad21-a6e7a0bfdf8a', 'HTTPStatusCode': 200, 'HTTPHeaders': {'date': 'Tue, 10 Sep 2024 16:01:59 GMT', 'x-amzn-requestid': '9deb1d76-7176-40c9-ad21-a6e7a0bfdf8a', 'content-type': 'text/xml', 'content-length': '1021'}, 'RetryAttempts': 0}} \n",
      " bucket_name :: l2b9a8d3-agent-kb-122610495479 \n",
      " schema_key :: l2b9a8d3-agent-kb-schema.json \n",
      " knowledge_base_db_id :: MVERLRH7NK \n",
      " knowledge_base_aws_id :: K7P1YHIEJS \n",
      "[2024-09-10 16:10:38,998] p31388 {agents_infra_utils_with_two_kbs.py:1306} INFO - agent_name :: l2b9a8d3-agent-kb \n",
      " agent_alias_name :: l2b9a8d3-workshop-alias \n",
      " bucket_name :: l2b9a8d3-agent-kb-122610495479 \n",
      " schema_key :: l2b9a8d3-agent-kb-schema.json \n",
      " knowledge_base_db_id :: MVERLRH7NK \n"
     ]
    },
    {
     "name": "stdout",
     "output_type": "stream",
     "text": [
      "CPU times: user 5.34 s, sys: 497 ms, total: 5.84 s\n",
      "Wall time: 9min 35s\n"
     ]
    }
   ],
   "source": [
    "%%time\n",
    "infra_response = setup_agent_infrastructure()"
   ]
  },
  {
   "cell_type": "code",
   "execution_count": 11,
   "id": "ab564da2-4ac5-4d43-b7bf-d926860fb020",
   "metadata": {},
   "outputs": [],
   "source": [
    "agent_name = infra_response[\"agent_name\"]\n",
    "agent_alias_name = infra_response[\"agent_alias_name\"]\n",
    "agent_role = infra_response[\"agent_role\"]\n",
    "bucket_name = infra_response[\"bucket_name\"]\n",
    "schema_key = infra_response[\"schema_key\"]\n",
    "knowledge_base_db_id = infra_response[\"knowledge_base_db_id\"]\n",
    "knowledge_base_aws_id = infra_response[\"knowledge_base_aws_id\"]\n",
    "lambda_name = infra_response[\"lambda_name\"]\n",
    "lambda_function = infra_response[\"lambda_function\"]\n",
    "agent_bedrock_policy = infra_response[\"agent_bedrock_policy\"]\n",
    "agent_s3_schema_policy = infra_response[\"agent_s3_schema_policy\"]\n",
    "agent_role_name = infra_response[\"agent_role_name\"]\n",
    "lambda_role_name = infra_response[\"lambda_role_name\"]\n",
    "kb_db_collection_name = infra_response[\"kb_db_collection_name\"]\n",
    "kb_db_bedrock_policy = infra_response[\"kb_db_bedrock_policy\"]\n",
    "kb_db_aoss_policy = infra_response[\"kb_db_aoss_policy\"]\n",
    "kb_db_s3_policy = infra_response[\"kb_db_s3_policy\"]\n",
    "agent_kb_schema_policy = infra_response[\"agent_kb_schema_policy\"]\n",
    "kb_db_role_name = infra_response[\"kb_db_role_name\"]\n",
    "kb_db_opensearch_collection_response = infra_response[\"kb_db_opensearch_collection_response\"]\n",
    "kb_aws_collection_name = infra_response[\"kb_aws_collection_name\"]\n",
    "kb_aws_bedrock_policy = infra_response[\"kb_aws_bedrock_policy\"]\n",
    "kb_aws_aoss_policy = infra_response[\"kb_aws_aoss_policy\"]\n",
    "kb_aws_s3_policy = infra_response[\"kb_aws_s3_policy\"]\n",
    "kb_aws_role_name = infra_response[\"kb_aws_role_name\"]\n",
    "kb_aws_opensearch_collection_response = infra_response[\"kb_aws_opensearch_collection_response\"]\n"
   ]
  },
  {
   "cell_type": "markdown",
   "id": "96b86215-bc3d-47f6-a98c-6f96c513d886",
   "metadata": {},
   "source": [
    "### <a name=\"3\">Creating an agent </a>\n",
    "(<a href=\"#0\">Go to top</a>)\n",
    "\n",
    "Once the needed IAM role is created, we can use the Bedrock agent client to create a new agent. To do so we use the `create_agent` function. It requires an agent name, underlying foundation model, and instruction. You can also provide an agent description. Note that the agent created is not yet prepared. We will focus on preparing the agent and then using it to invoke actions and use other APIs:"
   ]
  },
  {
   "cell_type": "code",
   "execution_count": 12,
   "id": "e1d7c63b-6bc0-4b48-a5c0-2db24fa5a21e",
   "metadata": {
    "tags": []
   },
   "outputs": [],
   "source": [
    "# Create Agent\n",
    "agent_instruction = \"\"\"\n",
    "Hello, I am AI Application Builder Assistant. \n",
    "\n",
    "I am capable of answering the following three categories of questions:\n",
    "- Best practices for design of software applications using the content inside the AWS best practices and AWS well-architected framework Knowledge Base. I help customers understand AWS best practices for building applications with AWS services.  \n",
    "- Generate a valid SQLite query for the customer using the database schema inside the Northwind DB knowledge base and then execute the query that answers the question based on the [Northwind] dataset.If the Northwind DB Knowledge Base search function result did not contain enough information to construct a full query try to construct a query to the best of your ability based on the Northwind database schema.\n",
    "- Generate and Explain code for the customer following standard programming language syntax \n",
    "\n",
    "Feel free to ask any questions along those lines!\n",
    "\n",
    "\"\"\"\n",
    "#foundationModel=\"anthropic.claude-3-sonnet-20240229-v1:0\",\n",
    "# \"anthropic.claude-v2\"\n",
    "\n",
    "response = bedrock_agent_client.create_agent(\n",
    "    agentName=agent_name,\n",
    "    agentResourceRoleArn=agent_role['Role']['Arn'],\n",
    "    description=\"AI Application Builder Assistant\",\n",
    "    idleSessionTTLInSeconds=1800,\n",
    "    foundationModel=\"anthropic.claude-3-sonnet-20240229-v1:0\",\n",
    "    instruction=agent_instruction,\n",
    ")"
   ]
  },
  {
   "cell_type": "markdown",
   "id": "aa89ac0d-b1af-4efa-bbb8-59a8f486a622",
   "metadata": {},
   "source": [
    "Looking at the created agent, we can see its status and agent id:"
   ]
  },
  {
   "cell_type": "code",
   "execution_count": 13,
   "id": "0eef5588-1f7f-4d94-8a10-3eb8ecf316d1",
   "metadata": {
    "tags": []
   },
   "outputs": [
    {
     "data": {
      "text/plain": [
       "{'ResponseMetadata': {'RequestId': 'aa55ea81-ac9b-4808-89d8-3855cadf004f',\n",
       "  'HTTPStatusCode': 202,\n",
       "  'HTTPHeaders': {'date': 'Tue, 10 Sep 2024 16:10:39 GMT',\n",
       "   'content-type': 'application/json',\n",
       "   'content-length': '1445',\n",
       "   'connection': 'keep-alive',\n",
       "   'x-amzn-requestid': 'aa55ea81-ac9b-4808-89d8-3855cadf004f',\n",
       "   'x-amz-apigw-id': 'd5Zb5HjTPHcEB0A=',\n",
       "   'x-amzn-trace-id': 'Root=1-66e06f7f-264037a0299cd27c6481515c'},\n",
       "  'RetryAttempts': 0},\n",
       " 'agent': {'agentArn': 'arn:aws:bedrock:us-west-2:122610495479:agent/SUJDBUOWFA',\n",
       "  'agentId': 'SUJDBUOWFA',\n",
       "  'agentName': 'l2b9a8d3-agent-kb',\n",
       "  'agentResourceRoleArn': 'arn:aws:iam::122610495479:role/AmazonBedrockExecutionRoleForAgentsAIAssistant01',\n",
       "  'agentStatus': 'CREATING',\n",
       "  'createdAt': datetime.datetime(2024, 9, 10, 16, 10, 39, 136229, tzinfo=tzlocal()),\n",
       "  'description': 'AI Application Builder Assistant',\n",
       "  'foundationModel': 'anthropic.claude-3-sonnet-20240229-v1:0',\n",
       "  'idleSessionTTLInSeconds': 1800,\n",
       "  'instruction': '\\nHello, I am AI Application Builder Assistant. \\n\\nI am capable of answering the following three categories of questions:\\n- Best practices for design of software applications using the content inside the AWS best practices and AWS well-architected framework Knowledge Base. I help customers understand AWS best practices for building applications with AWS services.  \\n- Generate a valid SQLite query for the customer using the database schema inside the Northwind DB knowledge base and then execute the query that answers the question based on the [Northwind] dataset.If the Northwind DB Knowledge Base search function result did not contain enough information to construct a full query try to construct a query to the best of your ability based on the Northwind database schema.\\n- Generate and Explain code for the customer following standard programming language syntax \\n\\nFeel free to ask any questions along those lines!\\n\\n',\n",
       "  'updatedAt': datetime.datetime(2024, 9, 10, 16, 10, 39, 136229, tzinfo=tzlocal())}}"
      ]
     },
     "execution_count": 13,
     "metadata": {},
     "output_type": "execute_result"
    }
   ],
   "source": [
    "response"
   ]
  },
  {
   "cell_type": "markdown",
   "id": "780ce247-ff4c-4ecf-8558-222581d2ea52",
   "metadata": {},
   "source": [
    "Let's now store the agent id in a local variable to use it on the next steps"
   ]
  },
  {
   "cell_type": "code",
   "execution_count": 14,
   "id": "4d2bf0ea-5c5c-4afc-9b4d-19158b48bb50",
   "metadata": {
    "tags": []
   },
   "outputs": [
    {
     "data": {
      "text/plain": [
       "'SUJDBUOWFA'"
      ]
     },
     "execution_count": 14,
     "metadata": {},
     "output_type": "execute_result"
    }
   ],
   "source": [
    "agent_id = response['agent']['agentId']\n",
    "agent_id"
   ]
  },
  {
   "cell_type": "markdown",
   "id": "32158234-b474-4bfa-8efd-afe5aa087df8",
   "metadata": {},
   "source": [
    "### Create agent action group\n",
    "We will now create an agent action group that uses the Lambda function and API schema files created before.\n",
    "The `create_agent_action_group` function provides this functionality. We will use `DRAFT` as the agent version since we haven't yet created an agent version or alias. To inform the agent about the action group functionalities, we will provide an action group description containing the functionalities of the action group."
   ]
  },
  {
   "cell_type": "code",
   "execution_count": 15,
   "id": "ca4dd6c1-5151-4846-ac75-e8b23e299a90",
   "metadata": {
    "tags": []
   },
   "outputs": [],
   "source": [
    "# Pause to make sure agent is created\n",
    "time.sleep(30)\n",
    "# Now, we can configure and create an action group here:\n",
    "agent_action_group_response = bedrock_agent_client.create_agent_action_group(\n",
    "    agentId=agent_id,\n",
    "    agentVersion='DRAFT',\n",
    "    actionGroupExecutor={\n",
    "        'lambda': lambda_function['FunctionArn']\n",
    "    },\n",
    "    actionGroupName='AppBuilderAssistantActionGroup',\n",
    "    apiSchema={\n",
    "        's3': {\n",
    "            's3BucketName': bucket_name,\n",
    "            's3ObjectKey': schema_key\n",
    "        }\n",
    "    },\n",
    "    description='APIs to execute valid SQLite query and help customers with system design by querying the AWS Well-Architected Framework and writing code.'\n",
    ")"
   ]
  },
  {
   "cell_type": "code",
   "execution_count": 16,
   "id": "74945f90-4777-40da-bc5e-ca0b31fdbb6b",
   "metadata": {
    "tags": []
   },
   "outputs": [
    {
     "data": {
      "text/plain": [
       "{'ResponseMetadata': {'RequestId': 'c3924c4a-4b8c-4577-bf34-3e94ecf8ebd7',\n",
       "  'HTTPStatusCode': 200,\n",
       "  'HTTPHeaders': {'date': 'Tue, 10 Sep 2024 16:11:10 GMT',\n",
       "   'content-type': 'application/json',\n",
       "   'content-length': '642',\n",
       "   'connection': 'keep-alive',\n",
       "   'x-amzn-requestid': 'c3924c4a-4b8c-4577-bf34-3e94ecf8ebd7',\n",
       "   'x-amz-apigw-id': 'd5ZgnHsjvHcEo2g=',\n",
       "   'x-amzn-trace-id': 'Root=1-66e06f9d-488ea3b640cc25850140f799'},\n",
       "  'RetryAttempts': 0},\n",
       " 'agentActionGroup': {'actionGroupExecutor': {'lambda': 'arn:aws:lambda:us-west-2:122610495479:function:LambdaAgentsAIAssistant'},\n",
       "  'actionGroupId': 'MHVWNPYDYU',\n",
       "  'actionGroupName': 'AppBuilderAssistantActionGroup',\n",
       "  'actionGroupState': 'ENABLED',\n",
       "  'agentId': 'SUJDBUOWFA',\n",
       "  'agentVersion': 'DRAFT',\n",
       "  'apiSchema': {'s3': {'s3BucketName': 'l2b9a8d3-agent-kb-122610495479',\n",
       "    's3ObjectKey': 'l2b9a8d3-agent-kb-schema.json'}},\n",
       "  'createdAt': datetime.datetime(2024, 9, 10, 16, 11, 10, 165943, tzinfo=tzlocal()),\n",
       "  'description': 'APIs to execute valid SQLite query and help customers with system design by querying the AWS Well-Architected Framework and writing code.',\n",
       "  'updatedAt': datetime.datetime(2024, 9, 10, 16, 11, 10, 165943, tzinfo=tzlocal())}}"
      ]
     },
     "execution_count": 16,
     "metadata": {},
     "output_type": "execute_result"
    }
   ],
   "source": [
    "agent_action_group_response"
   ]
  },
  {
   "cell_type": "markdown",
   "id": "04586a08-764b-499a-a52a-5b199b061890",
   "metadata": {},
   "source": [
    "### Allowing agent to invoke action group Lambda\n",
    "Before using our action group, we need to allow our agent to invoke the Lambda function associated to the action group. This is done via resource-based policy. Let's add the resource-based policy to the Lambda function created:"
   ]
  },
  {
   "cell_type": "code",
   "execution_count": 17,
   "id": "33555ead-bc3c-420b-b0fd-ee644863ce57",
   "metadata": {
    "tags": []
   },
   "outputs": [],
   "source": [
    "# Create allow invoke permission on Lambda\n",
    "response = lambda_client.add_permission(\n",
    "    FunctionName=lambda_name,\n",
    "    StatementId='allow_bedrock',\n",
    "    Action='lambda:InvokeFunction',\n",
    "    Principal='bedrock.amazonaws.com',\n",
    "    SourceArn=f\"arn:aws:bedrock:{region}:{account_id}:agent/{agent_id}\",\n",
    ")"
   ]
  },
  {
   "cell_type": "markdown",
   "id": "7cae86e5-de02-430a-a094-86ae25957998",
   "metadata": {},
   "source": [
    "### Associating the agent to knowledge base 1\n"
   ]
  },
  {
   "cell_type": "code",
   "execution_count": 18,
   "id": "951e3c5d-27c7-4a4f-9519-41984559367c",
   "metadata": {
    "tags": []
   },
   "outputs": [],
   "source": [
    "agent_kb_db_description = bedrock_agent_client.associate_agent_knowledge_base(\n",
    "    agentId=agent_id,\n",
    "    agentVersion='DRAFT',\n",
    "    description=f'Use the information in the {knowledge_base_db_id} Knowledge Base to generate a valid SQLite Query to answer the questions based on the Northwind database',\n",
    "    knowledgeBaseId=knowledge_base_db_id \n",
    ")"
   ]
  },
  {
   "cell_type": "code",
   "execution_count": 19,
   "id": "d1520117-8446-4ec0-b2d3-50ed5c25a602",
   "metadata": {},
   "outputs": [
    {
     "data": {
      "text/plain": [
       "{'ResponseMetadata': {'RequestId': 'c20fd3d7-54f2-4b87-b7cb-7138f38e2ac2',\n",
       "  'HTTPStatusCode': 200,\n",
       "  'HTTPHeaders': {'date': 'Tue, 10 Sep 2024 16:11:10 GMT',\n",
       "   'content-type': 'application/json',\n",
       "   'content-length': '334',\n",
       "   'connection': 'keep-alive',\n",
       "   'x-amzn-requestid': 'c20fd3d7-54f2-4b87-b7cb-7138f38e2ac2',\n",
       "   'x-amz-apigw-id': 'd5ZgzG_WvHcErZw=',\n",
       "   'x-amzn-trace-id': 'Root=1-66e06f9e-1cf536072d777d1d28012e61'},\n",
       "  'RetryAttempts': 0},\n",
       " 'agentKnowledgeBase': {'createdAt': datetime.datetime(2024, 9, 10, 16, 11, 10, 547484, tzinfo=tzlocal()),\n",
       "  'description': 'Use the information in the MVERLRH7NK Knowledge Base to generate a valid SQLite Query to answer the questions based on the Northwind database',\n",
       "  'knowledgeBaseId': 'MVERLRH7NK',\n",
       "  'knowledgeBaseState': 'ENABLED',\n",
       "  'updatedAt': datetime.datetime(2024, 9, 10, 16, 11, 10, 547484, tzinfo=tzlocal())}}"
      ]
     },
     "execution_count": 19,
     "metadata": {},
     "output_type": "execute_result"
    }
   ],
   "source": [
    "agent_kb_db_description"
   ]
  },
  {
   "cell_type": "markdown",
   "id": "3808037f-e025-450f-87d8-4a2cf8764817",
   "metadata": {},
   "source": [
    "### Associating the agent to knowledge base 2"
   ]
  },
  {
   "cell_type": "code",
   "execution_count": 20,
   "id": "c59f730e-5c90-45f9-aa41-635a42ac77c6",
   "metadata": {},
   "outputs": [],
   "source": [
    "agent_kb_aws_description = bedrock_agent_client.associate_agent_knowledge_base(\n",
    "    agentId=agent_id,\n",
    "    agentVersion='DRAFT',\n",
    "    description=f'Use the information in the {knowledge_base_aws_id} Knowledge Base to answer questions based on the AWS design best practices for enterprise software and AWS well architected framework',\n",
    "    knowledgeBaseId=knowledge_base_aws_id \n",
    ")"
   ]
  },
  {
   "cell_type": "code",
   "execution_count": 21,
   "id": "52e8a687-b4d2-48a2-88ec-c320c1f9f6b1",
   "metadata": {},
   "outputs": [
    {
     "data": {
      "text/plain": [
       "{'ResponseMetadata': {'RequestId': '9353b381-1a11-48db-b9d9-df5c5de14ff2',\n",
       "  'HTTPStatusCode': 200,\n",
       "  'HTTPHeaders': {'date': 'Tue, 10 Sep 2024 16:11:11 GMT',\n",
       "   'content-type': 'application/json',\n",
       "   'content-length': '363',\n",
       "   'connection': 'keep-alive',\n",
       "   'x-amzn-requestid': '9353b381-1a11-48db-b9d9-df5c5de14ff2',\n",
       "   'x-amz-apigw-id': 'd5Zg1EnfPHcEm2Q=',\n",
       "   'x-amzn-trace-id': 'Root=1-66e06f9e-558bf238296f5e4a78d77d58'},\n",
       "  'RetryAttempts': 0},\n",
       " 'agentKnowledgeBase': {'createdAt': datetime.datetime(2024, 9, 10, 16, 11, 11, 53189, tzinfo=tzlocal()),\n",
       "  'description': 'Use the information in the K7P1YHIEJS Knowledge Base to answer questions based on the AWS design best practices for enterprise software and AWS well architected framework',\n",
       "  'knowledgeBaseId': 'K7P1YHIEJS',\n",
       "  'knowledgeBaseState': 'ENABLED',\n",
       "  'updatedAt': datetime.datetime(2024, 9, 10, 16, 11, 11, 53189, tzinfo=tzlocal())}}"
      ]
     },
     "execution_count": 21,
     "metadata": {},
     "output_type": "execute_result"
    }
   ],
   "source": [
    "agent_kb_aws_description"
   ]
  },
  {
   "cell_type": "markdown",
   "id": "c449b466-3d92-49e7-aef2-168c8f669c40",
   "metadata": {},
   "source": [
    "### Preparing the agent\n",
    "Let's create a DRAFT version of the agent that can be used for internal testing."
   ]
  },
  {
   "cell_type": "code",
   "execution_count": 22,
   "id": "37a8d75d-9661-4b4f-95af-c3ab05e00b75",
   "metadata": {
    "tags": []
   },
   "outputs": [
    {
     "data": {
      "text/plain": [
       "{'ResponseMetadata': {'RequestId': '143d0e4b-5ff5-402b-8c8e-64704a8ce87c',\n",
       "  'HTTPStatusCode': 202,\n",
       "  'HTTPHeaders': {'date': 'Tue, 10 Sep 2024 16:11:11 GMT',\n",
       "   'content-type': 'application/json',\n",
       "   'content-length': '119',\n",
       "   'connection': 'keep-alive',\n",
       "   'x-amzn-requestid': '143d0e4b-5ff5-402b-8c8e-64704a8ce87c',\n",
       "   'x-amz-apigw-id': 'd5Zg7FcAvHcECng=',\n",
       "   'x-amzn-trace-id': 'Root=1-66e06f9f-1e0265391eb57d33158c1981'},\n",
       "  'RetryAttempts': 0},\n",
       " 'agentId': 'SUJDBUOWFA',\n",
       " 'agentStatus': 'PREPARING',\n",
       " 'agentVersion': 'DRAFT',\n",
       " 'preparedAt': datetime.datetime(2024, 9, 10, 16, 11, 11, 316141, tzinfo=tzlocal())}"
      ]
     },
     "execution_count": 22,
     "metadata": {},
     "output_type": "execute_result"
    }
   ],
   "source": [
    "agent_prepare = bedrock_agent_client.prepare_agent(agentId=agent_id)\n",
    "agent_prepare"
   ]
  },
  {
   "cell_type": "markdown",
   "id": "092dc0d0-3597-4ec2-8959-e1c968c9670b",
   "metadata": {},
   "source": [
    "### <a name=\"8\">Create agent alias to deploy agent</a>\n",
    "(<a href=\"#0\">Go to top</a>)\n",
    "\n",
    "We will now create an alias of the agent that can be used to deploy the agent."
   ]
  },
  {
   "cell_type": "code",
   "execution_count": 23,
   "id": "3f93af07-ac4b-45a0-89b5-7a90929df6f5",
   "metadata": {
    "tags": []
   },
   "outputs": [],
   "source": [
    "# Pause to make sure agent is prepared\n",
    "time.sleep(30)\n",
    "agent_alias = bedrock_agent_client.create_agent_alias(\n",
    "    agentId=agent_id,\n",
    "    agentAliasName=agent_alias_name\n",
    ")\n",
    "# Pause to make sure agent alias is ready\n",
    "time.sleep(30)"
   ]
  },
  {
   "cell_type": "code",
   "execution_count": 24,
   "id": "35de5613-638c-4f04-88e0-6fc9689b5f5d",
   "metadata": {
    "tags": []
   },
   "outputs": [
    {
     "data": {
      "text/plain": [
       "{'ResponseMetadata': {'RequestId': 'cebb4085-ff72-40bf-bd68-d1fcd8afa4ec',\n",
       "  'HTTPStatusCode': 202,\n",
       "  'HTTPHeaders': {'date': 'Tue, 10 Sep 2024 16:11:41 GMT',\n",
       "   'content-type': 'application/json',\n",
       "   'content-length': '349',\n",
       "   'connection': 'keep-alive',\n",
       "   'x-amzn-requestid': 'cebb4085-ff72-40bf-bd68-d1fcd8afa4ec',\n",
       "   'x-amz-apigw-id': 'd5ZlpERiPHcEjjg=',\n",
       "   'x-amzn-trace-id': 'Root=1-66e06fbd-5e883d662088a75545b84032'},\n",
       "  'RetryAttempts': 0},\n",
       " 'agentAlias': {'agentAliasArn': 'arn:aws:bedrock:us-west-2:122610495479:agent-alias/SUJDBUOWFA/TV6PFZPTIQ',\n",
       "  'agentAliasId': 'TV6PFZPTIQ',\n",
       "  'agentAliasName': 'l2b9a8d3-workshop-alias',\n",
       "  'agentAliasStatus': 'CREATING',\n",
       "  'agentId': 'SUJDBUOWFA',\n",
       "  'createdAt': datetime.datetime(2024, 9, 10, 16, 11, 41, 489670, tzinfo=tzlocal()),\n",
       "  'routingConfiguration': [{}],\n",
       "  'updatedAt': datetime.datetime(2024, 9, 10, 16, 11, 41, 489670, tzinfo=tzlocal())}}"
      ]
     },
     "execution_count": 24,
     "metadata": {},
     "output_type": "execute_result"
    }
   ],
   "source": [
    "agent_alias"
   ]
  },
  {
   "cell_type": "markdown",
   "id": "ada2844c-04fd-4dfc-a87d-0a668afb8f82",
   "metadata": {},
   "source": [
    "### <a name=\"9\">Invoke agent</a>\n",
    "(<a href=\"#0\">Go to top</a>)\n",
    "\n",
    "Now that we've created the agent, let's use the `bedrock-agent-runtime` client to invoke this agent and perform some tasks."
   ]
  },
  {
   "cell_type": "code",
   "execution_count": 25,
   "id": "b773f7db-6135-4050-a2fa-0bb6779c3c80",
   "metadata": {},
   "outputs": [],
   "source": [
    "USER_PROMPT_TEMPLATE = \"\"\"Question: {question}\n",
    "\n",
    "Given an input question, you will use the existing Knowledge Bases on AWS Well-Architected Framework and Northwind DB Knowledge Base. \n",
    "\n",
    "- For building and designing software applications, you will use the existing Knowledge Base on AWS well-architected framework to generate a response of the most relevant design principles and links to any documents. This Knowledge Base response can then be passed to the functions available to answer the user question. The final response to the direct answer to the user question. It has to be in markdown format highlighting any text of interest. Remove any backticks in the final response.\n",
    "\n",
    "- To generate code for a given user question,  you can use the default Large Language model to come up with the response. This response can be in code markdown format. You can optionally provide an explanation for the code.\n",
    "\n",
    "- To explain code for a given user question, you can use the default Large Language model to come up with the response. \n",
    "\n",
    "- For SQL query generation you will ONLY use the existing database schemas in the Northwind DB Knowledge Base to create a syntactically correct SQLite query and then you will EXECUTE the SQL Query using the functions and API provided to answer the question. \n",
    "Make sure to use ONLY existing columns and tables based on the Northwind DB database schema. Make sure to wrap table names with square brackets. Do not use underscore for table names unless that is part of the database schema. Make sure to add a semicolon after the end of the SQL statement generated.\n",
    "Remove any backticks and any html tags like <table><th><tr> in the final response.\n",
    "\n",
    "Here are a few examples of questions I can help answer by generating and then executing a SQLite query:\n",
    "\n",
    "- What are the total sales amounts by year?\n",
    "\n",
    "- What are the top 5 most expensive products? \n",
    "\n",
    "- What is the total revenue for each employee?\n",
    "\n",
    "\n",
    "\n",
    "\"\"\""
   ]
  },
  {
   "cell_type": "markdown",
   "id": "ac3e68fd-9a8e-4b7c-a187-6a10cd7eaf62",
   "metadata": {
    "tags": []
   },
   "source": [
    "### <a name=\"10\">Code generation examples </a>\n",
    "(<a href=\"#0\">Go to top</a>)\n",
    "\n",
    "For this demo, we query the LLM to generate code snippets for UI and back-end/middle tier. Change the question to generate the code in different programming languages like Python, JavaScript, Java and others.\n",
    "\n",
    "<center><img src=\"images/agents-codecall.drawio.png\" alt=\"architecture diagram for lab 3 to demonstrate the conditional workflow for LLMs.The same design diagram from earlier in the notebook, but we have highlighted the area that shows we will be working on code generation and explanation piece of the AI assistant.\" width=\"600\" height=\"600\" style=\"background-color:white; padding:1em;\" /></center> <br/>\n",
    "\n"
   ]
  },
  {
   "cell_type": "code",
   "execution_count": 26,
   "id": "39cb2dfc-431c-44ef-a619-7b6633712617",
   "metadata": {
    "tags": []
   },
   "outputs": [],
   "source": [
    "question = \"Write a python function to validate email address syntax.\""
   ]
  },
  {
   "cell_type": "code",
   "execution_count": 27,
   "id": "1fafd9dc-4a24-4ddf-967d-cfd62ddb24eb",
   "metadata": {
    "tags": []
   },
   "outputs": [],
   "source": [
    "%load_ext autoreload\n",
    "%autoreload 2\n",
    "%reload_ext autoreload\n",
    "from mlu_utils.agents_utils import *"
   ]
  },
  {
   "cell_type": "code",
   "execution_count": 30,
   "id": "d56fd613-b8a9-430a-82dc-2ec62a2021b9",
   "metadata": {
    "tags": []
   },
   "outputs": [
    {
     "name": "stdout",
     "output_type": "stream",
     "text": [
      "session_id :::: 4b216d9e-6f90-11ef-a17b-0a7ea206ebbb\n"
     ]
    },
    {
     "name": "stderr",
     "output_type": "stream",
     "text": [
      "[2024-09-10 16:18:24,631] p31388 {parsers.py:371} INFO - Received a tagged union response with member unknown to client: modelInvocationOutput. Please upgrade SDK for full response support.\n",
      "[2024-09-10 16:18:38,875] p31388 {parsers.py:371} INFO - Received a tagged union response with member unknown to client: modelInvocationOutput. Please upgrade SDK for full response support.\n",
      "[2024-09-10 16:18:38,918] p31388 {agents_utils.py:88} INFO - Final answer ->\n",
      "```python\n",
      "import re\n",
      "\n",
      "def validate_email(email):\n",
      "    \"\"\"\n",
      "    Validates the syntax of an email address.\n",
      "    \n",
      "    Args:\n",
      "        email (str): The email address to validate.\n",
      "        \n",
      "    Returns:\n",
      "        bool: True if the email address is valid, False otherwise.\n",
      "    \"\"\"\n",
      "    # Regular expression pattern for email validation\n",
      "    pattern = r'^[w.-]+@[w.-]+.w+$'\n",
      "    \n",
      "    # Match the email address against the pattern\n",
      "    if re.match(pattern, email):\n",
      "        return True\n",
      "    else:\n",
      "        return False\n",
      "\n",
      "# Example usage\n",
      "email1 = \"example@example.com\"\n",
      "email2 = \"invalid@email\"\n",
      "\n",
      "print(validate_email(email1))  # True\n",
      "print(validate_email(email2))  # False\n",
      "```\n",
      "\n",
      "**Explanation:**\n",
      "\n",
      "1. The `validate_email` function takes an email address as a string argument.\n",
      "2. It uses a regular expression pattern `r'^[w.-]+@[w.-]+.w+$'` to validate the email address syntax. This pattern checks for:\n",
      "   - One or more word characters, dots, or hyphens before the `@` symbol\n",
      "   - One or more word characters, dots, or hyphens after the `@` symbol\n",
      "   - A dot followed by one or more word characters (the top-level domain)\n",
      "3. The `re.match` function from the `re` module is used to match the email address against the regular expression pattern.\n",
      "4. If the email address matches the pattern, the function returns `True`, indicating a valid email address. Otherwise, it returns `False`.\n",
      "5. The function is demonstrated with two example email addresses: `\"example@example.com\"` (valid) and `\"invalid@email\"` (invalid).\n",
      "\n",
      "Note: This function only validates the syntax of the email address. It does not check if the email address actually exists or is deliverable.\n"
     ]
    },
    {
     "name": "stdout",
     "output_type": "stream",
     "text": [
      "CPU times: user 39.4 ms, sys: 3.21 ms, total: 42.6 ms\n",
      "Wall time: 19.1 s\n"
     ]
    }
   ],
   "source": [
    "%%time\n",
    "# Extract the agentAliasId from the response\n",
    "agent_alias_id = agent_alias['agentAlias']['agentAliasId']\n",
    "\n",
    "session_id:str = str(uuid.uuid1()) # random identifier\n",
    "enable_trace:bool = True\n",
    "end_session:bool = False\n",
    "\n",
    "print(f\"session_id :::: {session_id}\")\n",
    "\n",
    "final_answer = invoke_agent_generate_response(bedrock_agent_runtime_client,\n",
    "                                               USER_PROMPT_TEMPLATE.format(question=question),\n",
    "                                               agent_id, \n",
    "                                               agent_alias_id, \n",
    "                                               session_id, \n",
    "                                               enable_trace,\n",
    "                                               end_session,\n",
    "                                               trace_filename_prefix = 'lab3_agent_trace',\n",
    "                                               turn_number = 1)"
   ]
  },
  {
   "cell_type": "code",
   "execution_count": 31,
   "id": "72fbe3c9-c32f-44a6-8579-1d432a15036e",
   "metadata": {
    "tags": []
   },
   "outputs": [
    {
     "data": {
      "text/html": [
       "<table border=\"1\" class=\"dataframe\">\n",
       "  <thead>\n",
       "    <tr style=\"text-align: right;\">\n",
       "      <th></th>\n",
       "      <th>User Question</th>\n",
       "      <th>Agent Answer</th>\n",
       "    </tr>\n",
       "  </thead>\n",
       "  <tbody>\n",
       "    <tr>\n",
       "      <th>0</th>\n",
       "      <td>Write a python function to validate email address syntax.</td>\n",
       "      <td>```python<br>import re<br><br>def validate_email(email):<br>    \"\"\"<br>    Validates the syntax of an email address.<br>    <br>    Args:<br>        email (str): The email address to validate.<br>        <br>    Returns:<br>        bool: True if the email address is valid, False otherwise.<br>    \"\"\"<br>    # Regular expression pattern for email validation<br>    pattern = r'^[w.-]+@[w.-]+.w+\\$'<br>    <br>    # Match the email address against the pattern<br>    if re.match(pattern, email):<br>        return True<br>    else:<br>        return False<br><br># Example usage<br>email1 = \"example@example.com\"<br>email2 = \"invalid@email\"<br><br>print(validate_email(email1))  # True<br>print(validate_email(email2))  # False<br>```<br><br>**Explanation:**<br><br>1. The `validate_email` function takes an email address as a string argument.<br>2. It uses a regular expression pattern `r'^[w.-]+@[w.-]+.w+\\$'` to validate the email address syntax. This pattern checks for:<br>   - One or more word characters, dots, or hyphens before the `@` symbol<br>   - One or more word characters, dots, or hyphens after the `@` symbol<br>   - A dot followed by one or more word characters (the top-level domain)<br>3. The `re.match` function from the `re` module is used to match the email address against the regular expression pattern.<br>4. If the email address matches the pattern, the function returns `True`, indicating a valid email address. Otherwise, it returns `False`.<br>5. The function is demonstrated with two example email addresses: `\"example@example.com\"` (valid) and `\"invalid@email\"` (invalid).<br><br>Note: This function only validates the syntax of the email address. It does not check if the email address actually exists or is deliverable.</td>\n",
       "    </tr>\n",
       "  </tbody>\n",
       "</table>"
      ],
      "text/plain": [
       "<IPython.core.display.HTML object>"
      ]
     },
     "metadata": {},
     "output_type": "display_data"
    }
   ],
   "source": [
    "# And here is the response if you just want to see agent's reply\n",
    "format_final_response(question=question, final_answer=final_answer, lab_number=\"3\", turn_number=\"1\", gen_sql=False)"
   ]
  },
  {
   "cell_type": "code",
   "execution_count": 32,
   "id": "cbe7ea9f-b569-4a1d-9ba0-9399c7ef22e7",
   "metadata": {
    "tags": []
   },
   "outputs": [
    {
     "name": "stdout",
     "output_type": "stream",
     "text": [
      "The autoreload extension is already loaded. To reload it, use:\n",
      "  %reload_ext autoreload\n",
      "trace_filename_prefix = lab3_agent_trace and turn_number = 1\n"
     ]
    },
    {
     "data": {
      "application/vnd.jupyter.widget-view+json": {
       "model_id": "da3b9e063eab4c64b37cb8aa8a642b31",
       "version_major": 2,
       "version_minor": 0
      },
      "text/plain": [
       "ToggleButtons(button_style='success', description='Agent Trace: (Last Logged trace only) Full trace available …"
      ]
     },
     "metadata": {},
     "output_type": "display_data"
    },
    {
     "data": {
      "application/vnd.jupyter.widget-view+json": {
       "model_id": "a7ac73c8b119460fbe3c25c1ae42f67f",
       "version_major": 2,
       "version_minor": 0
      },
      "text/plain": [
       "Output(layout=Layout(border_bottom='1px solid black', border_left='1px solid black', border_right='1px solid b…"
      ]
     },
     "metadata": {},
     "output_type": "display_data"
    }
   ],
   "source": [
    "# Deep dive into agent-workflow steps in each of the tab\n",
    "%load_ext autoreload\n",
    "%autoreload 2\n",
    "from mlu_utils.show_trace_widget import *\n",
    "\n",
    "show_tabs(trace_filename_prefix = 'lab3_agent_trace', turn_number = 1)\n",
    "display(out_3_tabs_1)"
   ]
  },
  {
   "cell_type": "code",
   "execution_count": 33,
   "id": "dbc77c64-5cbe-484a-b35f-43c77a6c7bd7",
   "metadata": {},
   "outputs": [],
   "source": [
    "# Wait for tab output async processes to complete\n",
    "time.sleep(10)"
   ]
  },
  {
   "cell_type": "code",
   "execution_count": 34,
   "id": "8a24f6c7-fe3e-4942-a9ee-76b83352f6e6",
   "metadata": {
    "tags": []
   },
   "outputs": [
    {
     "name": "stdout",
     "output_type": "stream",
     "text": [
      ">>>>>>>> complete_log_path to summarize==> trace_files/full_trace_lab3_agent_trace_1.log\n"
     ]
    },
    {
     "name": "stderr",
     "output_type": "stream",
     "text": [
      "/home/ec2-user/SageMaker/application-builder-assistant-using-bedrock-agents-and-multiple-knowledge-bases-main/ai_appbuilder_assistant/mlu_utils/summarize_agent_trace.py:33: LangChainDeprecationWarning: The class `BedrockChat` was deprecated in LangChain 0.0.34 and will be removed in 1.0. An updated version of the class exists in the langchain-aws package and should be used instead. To use it run `pip install -U langchain-aws` and import as `from langchain_aws import ChatBedrock`.\n",
      "  llm = BedrockChat(client=bedrock_runtime_client, model_id=MODEL_ID, model_kwargs=model_kwargs)\n",
      "/home/ec2-user/SageMaker/application-builder-assistant-using-bedrock-agents-and-multiple-knowledge-bases-main/ai_appbuilder_assistant/mlu_utils/summarize_agent_trace.py:35: LangChainDeprecationWarning: The method `BaseChatModel.__call__` was deprecated in langchain-core 0.1.7 and will be removed in 1.0. Use invoke instead.\n",
      "  response = llm(messages)\n"
     ]
    },
    {
     "name": "stdout",
     "output_type": "stream",
     "text": [
      "CPU times: user 32.5 ms, sys: 413 μs, total: 32.9 ms\n",
      "Wall time: 7.42 s\n"
     ]
    }
   ],
   "source": [
    "%%time\n",
    "# Using Claude-v3 Haiku to generate a summary of the agent's workflow for this conversation turn\n",
    "turn_1_summary = summarize_agent_trace(trace_file_base_path= \"trace_files/\", lab_number=\"3\", turn_number=\"1\")\n",
    "with out_3_turn_1_summary:\n",
    "    out_3_turn_1_summary.clear_output()\n",
    "    display(Markdown(turn_1_summary))"
   ]
  },
  {
   "cell_type": "code",
   "execution_count": 35,
   "id": "b9c1c2ea-ff18-4e72-8ecc-ddbb7d14bcfc",
   "metadata": {
    "tags": []
   },
   "outputs": [
    {
     "data": {
      "application/vnd.jupyter.widget-view+json": {
       "model_id": "c874550382624d71b3315ee2839233af",
       "version_major": 2,
       "version_minor": 0
      },
      "text/plain": [
       "Output(layout=Layout(border_bottom='1px solid black', border_left='1px solid black', border_right='1px solid b…"
      ]
     },
     "metadata": {},
     "output_type": "display_data"
    }
   ],
   "source": [
    "\n",
    "## Display the summary of the agent workflow trace\n",
    "display(out_3_turn_1_summary)"
   ]
  },
  {
   "cell_type": "code",
   "execution_count": 36,
   "id": "fcad3f5f-5e9c-4475-b99e-de78212cda14",
   "metadata": {
    "tags": []
   },
   "outputs": [
    {
     "data": {
      "application/vnd.jupyter.widget-view+json": {
       "model_id": "835f3fc702fe48169292c461b6bcf8c1",
       "version_major": 2,
       "version_minor": 0
      },
      "text/plain": [
       "Output(layout=Layout(border_bottom='1px solid black', border_left='1px solid black', border_right='1px solid b…"
      ]
     },
     "metadata": {},
     "output_type": "display_data"
    }
   ],
   "source": [
    "code_to_explain = None\n",
    "with open(\"mlu_utils/summarize_agent_trace.py\", \"r\") as code_fp:\n",
    "    code_to_explain = code_fp.read()\n",
    "\n",
    "with out:\n",
    "    out.clear_output()\n",
    "    # display first 500 characters of the py file \n",
    "    display(Markdown(code_to_explain[:450]))\n",
    "\n",
    "display(out)"
   ]
  },
  {
   "cell_type": "code",
   "execution_count": 38,
   "id": "78230eaf-1804-4da3-9bb8-ba095957137a",
   "metadata": {
    "tags": []
   },
   "outputs": [],
   "source": [
    "question = f\"Explain the following code in lucid, natural language to me. \\n code to explain : \\n {code_to_explain}\""
   ]
  },
  {
   "cell_type": "code",
   "execution_count": 39,
   "id": "a7b22f89-4bbf-4458-87e1-deb82ac8f08d",
   "metadata": {
    "tags": []
   },
   "outputs": [
    {
     "name": "stdout",
     "output_type": "stream",
     "text": [
      "session_id :::: 61c56fd2-6f90-11ef-a17b-0a7ea206ebbb\n"
     ]
    },
    {
     "name": "stderr",
     "output_type": "stream",
     "text": [
      "[2024-09-10 16:19:15,486] p31388 {parsers.py:371} INFO - Received a tagged union response with member unknown to client: modelInvocationOutput. Please upgrade SDK for full response support.\n",
      "[2024-09-10 16:19:15,543] p31388 {agents_utils.py:88} INFO - Final answer ->\n",
      "The provided code is a Python script that utilizes the Anthropic Claude-3 language model (BedrockChat) to summarize the contents of a trace file containing an agent's workflow. Here's a breakdown of the code's functionality:\n",
      "\n",
      "1. It imports necessary modules and libraries for working with the Anthropic Claude-3 model, handling prompts, messages, and AWS Boto3 client.\n",
      "2. It sets the model ID and creates a Boto3 client for the Bedrock Runtime service.\n",
      "3. It defines model parameters like maximum tokens, temperature, top-k, top-p, and stop sequences.\n",
      "4. The `summarize_agent_trace` function takes optional arguments for the trace file base path, lab number, and turn number.\n",
      "5. Inside the function:\n",
      "   - It constructs the complete log path by combining the base path with lab number and turn number.\n",
      "   - It reads the content of the trace file and removes newline characters.\n",
      "   - It creates an instance of the BedrockChat model using the Boto3 client, model ID, and model parameters.\n",
      "   - It constructs a list of messages instructing the model to summarize the agent workflow in the trace file contents in natural language, removing XML tags.\n",
      "   - It calls the BedrockChat model with the list of messages and stores the response.\n",
      "   - If the response is an instance of `AIMessage`, it extracts the content, strips it, and returns the summarized response.\n",
      "\n",
      "The script is designed to take a trace file containing an agent's workflow and generate a natural language summary of the workflow by removing XML tags and other formatting. The summary is generated using the Anthropic Claude-3 language model, which is accessed through the AWS Bedrock Runtime service using the Boto3 client.\n"
     ]
    }
   ],
   "source": [
    "# Extract the agentAliasId from the response\n",
    "agent_alias_id = agent_alias['agentAlias']['agentAliasId']\n",
    "\n",
    "\n",
    "\n",
    "session_id:str = str(uuid.uuid1()) # random identifier\n",
    "enable_trace:bool = True\n",
    "end_session:bool = False\n",
    "\n",
    "print(f\"session_id :::: {session_id}\")\n",
    "\n",
    "final_answer = invoke_agent_generate_response(bedrock_agent_runtime_client,\n",
    "                                               USER_PROMPT_TEMPLATE.format(question=question),\n",
    "                                               agent_id, \n",
    "                                               agent_alias_id, \n",
    "                                               session_id, \n",
    "                                               enable_trace,\n",
    "                                               end_session,\n",
    "                                               trace_filename_prefix = 'lab3_agent_trace',\n",
    "                                               turn_number = 2)\n",
    "\n"
   ]
  },
  {
   "cell_type": "code",
   "execution_count": 40,
   "id": "fd15270e-3b2c-4f3c-bd2c-cdb304699d3d",
   "metadata": {
    "tags": []
   },
   "outputs": [
    {
     "data": {
      "text/html": [
       "<table border=\"1\" class=\"dataframe\">\n",
       "  <thead>\n",
       "    <tr style=\"text-align: right;\">\n",
       "      <th></th>\n",
       "      <th>User Question</th>\n",
       "      <th>Agent Answer</th>\n",
       "    </tr>\n",
       "  </thead>\n",
       "  <tbody>\n",
       "    <tr>\n",
       "      <th>0</th>\n",
       "      <td>Explain the following code in lucid, natural language to me. <br> code to explain : <br> from langchain_core.output_parsers import StrOutputParser<br><br>from langchain_core.prompts import ChatPromptTemplate<br><br>from langchain_community.chat_models import BedrockChat<br><br>from langchain_core.messages import HumanMessage<br><br>import boto3<br><br>MODEL_ID = \"anthropic.claude-3-haiku-20240307-v1:0\"<br>bedrock_runtime_client = boto3.client(\"bedrock-runtime\")<br><br>model_kwargs =  {<br>    \"max_tokens\": 4000,<br>    \"temperature\": 0.0,<br>    \"top_k\": 250,<br>    \"top_p\": 1,<br>    \"stop_sequences\": [\"<br><br>Human\"],<br>}<br><br><br>def summarize_agent_trace(trace_file_base_path= \"trace_files/\", lab_number=\"2b\", turn_number=\"1\"):<br><br>    complete_log_path = trace_file_base_path + f\"full_trace_lab{lab_number}_agent_trace_{turn_number}.log\"<br>    print(f\"&gt;&gt;&gt;&gt;&gt;&gt;&gt;&gt; complete_log_path to summarize==&gt; {complete_log_path}\")<br>    trace_content_text = None<br>    with open(complete_log_path, \"r\") as trace_fp:<br>        trace_content_text = trace_fp.read().replace(\"<br>\", \"\")<br><br>    # print(f\"trace_content_text[:20] == {trace_content_text[:20]}\")<br>    <br>    llm = BedrockChat(client=bedrock_runtime_client, model_id=MODEL_ID, model_kwargs=model_kwargs)<br>    messages = [HumanMessage(content=f\"Summarize in natural language the agent workflow in the trace file contents that follow. Remove XML tags in the output. TRACE FILE CONTENTS: {trace_content_text[:40000]}\")]<br>    response = llm(messages)<br>    # print(f\"raw response ==&gt; {response}\")<br><br>    if str(type(response)) == \"&lt;class 'langchain_core.messages.ai.AIMessage'&gt;\":<br>            response = response.content<br>            response = response.strip()<br>            #print(f\"Parsed response ==&gt; {response}\")<br><br>    return response<br><br># for unit-testing<br># summarize_agent_trace(trace_file_base_path= \"../trace_files/\", lab_number=\"2b\", turn_number=\"1\")<br></td>\n",
       "      <td>The provided code is a Python script that utilizes the Anthropic Claude-3 language model (BedrockChat) to summarize the contents of a trace file containing an agent's workflow. Here's a breakdown of the code's functionality:<br><br>1. It imports necessary modules and libraries for working with the Anthropic Claude-3 model, handling prompts, messages, and AWS Boto3 client.<br>2. It sets the model ID and creates a Boto3 client for the Bedrock Runtime service.<br>3. It defines model parameters like maximum tokens, temperature, top-k, top-p, and stop sequences.<br>4. The `summarize_agent_trace` function takes optional arguments for the trace file base path, lab number, and turn number.<br>5. Inside the function:<br>   - It constructs the complete log path by combining the base path with lab number and turn number.<br>   - It reads the content of the trace file and removes newline characters.<br>   - It creates an instance of the BedrockChat model using the Boto3 client, model ID, and model parameters.<br>   - It constructs a list of messages instructing the model to summarize the agent workflow in the trace file contents in natural language, removing XML tags.<br>   - It calls the BedrockChat model with the list of messages and stores the response.<br>   - If the response is an instance of `AIMessage`, it extracts the content, strips it, and returns the summarized response.<br><br>The script is designed to take a trace file containing an agent's workflow and generate a natural language summary of the workflow by removing XML tags and other formatting. The summary is generated using the Anthropic Claude-3 language model, which is accessed through the AWS Bedrock Runtime service using the Boto3 client.</td>\n",
       "    </tr>\n",
       "  </tbody>\n",
       "</table>"
      ],
      "text/plain": [
       "<IPython.core.display.HTML object>"
      ]
     },
     "metadata": {},
     "output_type": "display_data"
    }
   ],
   "source": [
    "# And here is the response if you just want to see agent's reply\n",
    "format_final_response(question=question, final_answer=final_answer, lab_number=\"3\", turn_number=\"2\", gen_sql=False)"
   ]
  },
  {
   "cell_type": "code",
   "execution_count": 41,
   "id": "74220d96-734e-4bfe-bf8f-e941902d6ed3",
   "metadata": {
    "tags": []
   },
   "outputs": [
    {
     "name": "stdout",
     "output_type": "stream",
     "text": [
      "The autoreload extension is already loaded. To reload it, use:\n",
      "  %reload_ext autoreload\n",
      "trace_filename_prefix = lab3_agent_trace and turn_number = 2\n"
     ]
    },
    {
     "data": {
      "application/vnd.jupyter.widget-view+json": {
       "model_id": "237d24e0ebdf4b17bb8fc61a67550753",
       "version_major": 2,
       "version_minor": 0
      },
      "text/plain": [
       "ToggleButtons(button_style='success', description='Agent Trace: (Last Logged trace only) Full trace available …"
      ]
     },
     "metadata": {},
     "output_type": "display_data"
    },
    {
     "data": {
      "application/vnd.jupyter.widget-view+json": {
       "model_id": "62347c0c406c402e8108b8b92d240bbe",
       "version_major": 2,
       "version_minor": 0
      },
      "text/plain": [
       "Output(layout=Layout(border_bottom='1px solid black', border_left='1px solid black', border_right='1px solid b…"
      ]
     },
     "metadata": {},
     "output_type": "display_data"
    }
   ],
   "source": [
    "# Deep dive into agent-workflow steps in each of the tabs\n",
    "%load_ext autoreload\n",
    "%autoreload 2\n",
    "from mlu_utils.show_trace_widget import *\n",
    "\n",
    "show_tabs(trace_filename_prefix = 'lab3_agent_trace', turn_number = 2)\n",
    "display(out_3_tabs_2)"
   ]
  },
  {
   "cell_type": "code",
   "execution_count": 42,
   "id": "27c50490-d91e-4785-bebb-d538a3a58a53",
   "metadata": {
    "tags": []
   },
   "outputs": [],
   "source": [
    "# Wait for tab output async processes to complete\n",
    "time.sleep(10)"
   ]
  },
  {
   "cell_type": "code",
   "execution_count": 43,
   "id": "b0cd9558-40d9-47d0-a24f-367edbbff626",
   "metadata": {
    "tags": []
   },
   "outputs": [
    {
     "name": "stdout",
     "output_type": "stream",
     "text": [
      ">>>>>>>> complete_log_path to summarize==> trace_files/full_trace_lab3_agent_trace_2.log\n",
      "CPU times: user 11.3 ms, sys: 4 ms, total: 15.3 ms\n",
      "Wall time: 2.31 s\n"
     ]
    }
   ],
   "source": [
    "%%time\n",
    "# Using Claude-v3 Haiku to generate a summary of the agent's workflow for this conversation turn\n",
    "turn_2_summary = summarize_agent_trace(trace_file_base_path= \"trace_files/\", lab_number=\"3\", turn_number=\"2\")\n",
    "with out_3_turn_2_summary:\n",
    "    out_3_turn_2_summary.clear_output()\n",
    "    display(Markdown(turn_2_summary))"
   ]
  },
  {
   "cell_type": "code",
   "execution_count": 44,
   "id": "127910ac-eecc-46ac-bf88-f33bf06e82d4",
   "metadata": {
    "tags": []
   },
   "outputs": [
    {
     "data": {
      "application/vnd.jupyter.widget-view+json": {
       "model_id": "a3a24f1d0f4f4f2b88562a21e19784a3",
       "version_major": 2,
       "version_minor": 0
      },
      "text/plain": [
       "Output(layout=Layout(border_bottom='1px solid black', border_left='1px solid black', border_right='1px solid b…"
      ]
     },
     "metadata": {},
     "output_type": "display_data"
    }
   ],
   "source": [
    "## Display the summary of the Agent workflow trace\n",
    "display(out_3_turn_2_summary)"
   ]
  },
  {
   "cell_type": "markdown",
   "id": "6f336cb6-af7b-4153-ab4d-cbed3c12b875",
   "metadata": {
    "tags": []
   },
   "source": [
    "\n",
    "### <a name=\"11\">System design Q&A with AWS Well-Architected Framework</a>\n",
    "(<a href=\"#0\">Go to top</a>)\n",
    "\n",
    "For this demo, we query the LLM to recommend system design setup and best practices based on the robust AWS Well-Architected Framework. \n",
    "\n",
    "<center><img src=\"images/agents-awscall.drawio.png\" alt=\"architecture diagram for lab 3 to demonstrate the conditional workflow for LLMs.The same design diagram from earlier in the notebook, but we have highlighted the area that shows we will be working on the AWS Well-Architected Framework for knowledge base inquiry.\" width=\"600\" height=\"600\" style=\"background-color:white; padding:1em;\" /></center> <br/>\n",
    "\n"
   ]
  },
  {
   "cell_type": "code",
   "execution_count": 45,
   "id": "cfeab606-7be1-46a6-9d48-f7dcf5202203",
   "metadata": {
    "tags": []
   },
   "outputs": [],
   "source": [
    "question = \"How can I design secure VPCs?\""
   ]
  },
  {
   "cell_type": "code",
   "execution_count": 46,
   "id": "fb467485-ab03-4a2f-90ba-962659b2a447",
   "metadata": {
    "tags": []
   },
   "outputs": [
    {
     "name": "stdout",
     "output_type": "stream",
     "text": [
      "session_id :::: 73f42752-6f90-11ef-a17b-0a7ea206ebbb\n"
     ]
    },
    {
     "name": "stderr",
     "output_type": "stream",
     "text": [
      "[2024-09-10 16:19:33,732] p31388 {parsers.py:371} INFO - Received a tagged union response with member unknown to client: modelInvocationOutput. Please upgrade SDK for full response support.\n",
      "[2024-09-10 16:19:56,774] p31388 {parsers.py:371} INFO - Received a tagged union response with member unknown to client: modelInvocationOutput. Please upgrade SDK for full response support.\n",
      "[2024-09-10 16:19:56,830] p31388 {agents_utils.py:88} INFO - Final answer ->\n",
      "To design secure VPCs on AWS, follow these best practices:\n",
      "\n",
      "**Network Segmentation**\n",
      "- Define separate network layers and segment workloads into isolated VPCs for ingress, egress, and inspection flows\n",
      "- Use VPC peering, AWS Transit Gateway, or AWS PrivateLink to control traffic between VPCs\n",
      "\n",
      "**Network Protection**\n",
      "- Implement inspection services like AWS Network Firewall, AWS WAF, and Route 53 Resolver DNS Firewall to inspect and control network traffic\n",
      "- Use security groups, network ACLs, and route tables as additional layers of defense\n",
      "\n",
      "**Automation and Governance**\n",
      "- Automate network resource deployment using infrastructure as code (IaC) tools like AWS CloudFormation\n",
      "- Store IaC templates in version control and use CI/CD pipelines with automated testing\n",
      "- Establish a central Network account to define and share network resources across the organization using AWS Resource Access Manager\n",
      "\n",
      "**Monitoring and Response**\n",
      "- Enable VPC flow logs and review firewall logs to monitor for unauthorized access\n",
      "- Follow incident response best practices to detect and respond to security events\n"
     ]
    }
   ],
   "source": [
    "# Extract the agentAliasId from the response\n",
    "agent_alias_id = agent_alias['agentAlias']['agentAliasId']\n",
    "\n",
    "\n",
    "session_id:str = str(uuid.uuid1()) # random identifier\n",
    "enable_trace:bool = True\n",
    "end_session:bool = False\n",
    "\n",
    "print(f\"session_id :::: {session_id}\")\n",
    "\n",
    "final_answer = invoke_agent_generate_response(bedrock_agent_runtime_client,\n",
    "                                               USER_PROMPT_TEMPLATE.format(question=question),\n",
    "                                               agent_id, \n",
    "                                               agent_alias_id, \n",
    "                                               session_id, \n",
    "                                               enable_trace,\n",
    "                                               end_session,\n",
    "                                               trace_filename_prefix = 'lab3_agent_trace',\n",
    "                                               turn_number = 3)\n"
   ]
  },
  {
   "cell_type": "code",
   "execution_count": 47,
   "id": "0324166c-d006-4d1e-8e09-f18fa2884bc9",
   "metadata": {
    "tags": []
   },
   "outputs": [
    {
     "data": {
      "text/html": [
       "<table border=\"1\" class=\"dataframe\">\n",
       "  <thead>\n",
       "    <tr style=\"text-align: right;\">\n",
       "      <th></th>\n",
       "      <th>User Question</th>\n",
       "      <th>Agent Answer</th>\n",
       "    </tr>\n",
       "  </thead>\n",
       "  <tbody>\n",
       "    <tr>\n",
       "      <th>0</th>\n",
       "      <td>How can I design secure VPCs?</td>\n",
       "      <td>To design secure VPCs on AWS, follow these best practices:<br><br>**Network Segmentation**<br>- Define separate network layers and segment workloads into isolated VPCs for ingress, egress, and inspection flows<br>- Use VPC peering, AWS Transit Gateway, or AWS PrivateLink to control traffic between VPCs<br><br>**Network Protection**<br>- Implement inspection services like AWS Network Firewall, AWS WAF, and Route 53 Resolver DNS Firewall to inspect and control network traffic<br>- Use security groups, network ACLs, and route tables as additional layers of defense<br><br>**Automation and Governance**<br>- Automate network resource deployment using infrastructure as code (IaC) tools like AWS CloudFormation<br>- Store IaC templates in version control and use CI/CD pipelines with automated testing<br>- Establish a central Network account to define and share network resources across the organization using AWS Resource Access Manager<br><br>**Monitoring and Response**<br>- Enable VPC flow logs and review firewall logs to monitor for unauthorized access<br>- Follow incident response best practices to detect and respond to security events</td>\n",
       "    </tr>\n",
       "  </tbody>\n",
       "</table>"
      ],
      "text/plain": [
       "<IPython.core.display.HTML object>"
      ]
     },
     "metadata": {},
     "output_type": "display_data"
    }
   ],
   "source": [
    "# And here is the response if you just want to see agent's reply\n",
    "format_final_response(question=question, final_answer=final_answer, lab_number=\"3\", turn_number=\"3\", gen_sql=False)"
   ]
  },
  {
   "cell_type": "code",
   "execution_count": 48,
   "id": "5e88eb31-4590-4fc5-a321-fec4ce4cc0d9",
   "metadata": {
    "tags": []
   },
   "outputs": [
    {
     "name": "stdout",
     "output_type": "stream",
     "text": [
      "The autoreload extension is already loaded. To reload it, use:\n",
      "  %reload_ext autoreload\n",
      "trace_filename_prefix = lab3_agent_trace and turn_number = 3\n"
     ]
    },
    {
     "data": {
      "application/vnd.jupyter.widget-view+json": {
       "model_id": "5c5d3cbd87554893b622e72e2a565ab7",
       "version_major": 2,
       "version_minor": 0
      },
      "text/plain": [
       "ToggleButtons(button_style='success', description='Agent Trace: (Last Logged trace only) Full trace available …"
      ]
     },
     "metadata": {},
     "output_type": "display_data"
    },
    {
     "data": {
      "application/vnd.jupyter.widget-view+json": {
       "model_id": "6b4ea21f96af4b1e9bb8057e3149a671",
       "version_major": 2,
       "version_minor": 0
      },
      "text/plain": [
       "Output(layout=Layout(border_bottom='1px solid black', border_left='1px solid black', border_right='1px solid b…"
      ]
     },
     "metadata": {},
     "output_type": "display_data"
    }
   ],
   "source": [
    "# Deep dive into Agent-workflow steps in each of the tabs\n",
    "%load_ext autoreload\n",
    "%autoreload 2\n",
    "from mlu_utils.show_trace_widget import *\n",
    "\n",
    "show_tabs(trace_filename_prefix = 'lab3_agent_trace', turn_number = 3)\n",
    "display(out_3_tabs_3)"
   ]
  },
  {
   "cell_type": "code",
   "execution_count": 49,
   "id": "90af5d99-38ea-49c3-9f8d-5a8ba61c1b70",
   "metadata": {},
   "outputs": [],
   "source": [
    "# Wait for tab output async processes to complete\n",
    "time.sleep(10)"
   ]
  },
  {
   "cell_type": "code",
   "execution_count": 50,
   "id": "f7a5135b-f332-4aa8-8946-459766b5637f",
   "metadata": {
    "tags": []
   },
   "outputs": [
    {
     "name": "stdout",
     "output_type": "stream",
     "text": [
      ">>>>>>>> complete_log_path to summarize==> trace_files/full_trace_lab3_agent_trace_3.log\n",
      "CPU times: user 9.37 ms, sys: 3.96 ms, total: 13.3 ms\n",
      "Wall time: 4.75 s\n"
     ]
    }
   ],
   "source": [
    "%%time\n",
    "# Using Claude-v3 Haiku to generate a summary of the agent's workflow for this conversation turn\n",
    "turn_3_summary = summarize_agent_trace(trace_file_base_path= \"trace_files/\", lab_number=\"3\", turn_number=\"3\")\n",
    "with out_3_turn_3_summary:\n",
    "    out_3_turn_3_summary.clear_output()\n",
    "    display(Markdown(turn_3_summary))"
   ]
  },
  {
   "cell_type": "code",
   "execution_count": 51,
   "id": "df98e478-d733-4a7a-a050-4780afc61aef",
   "metadata": {
    "tags": []
   },
   "outputs": [
    {
     "data": {
      "application/vnd.jupyter.widget-view+json": {
       "model_id": "ab8dc4de02204062a650d4afca9f604f",
       "version_major": 2,
       "version_minor": 0
      },
      "text/plain": [
       "Output(layout=Layout(border_bottom='1px solid black', border_left='1px solid black', border_right='1px solid b…"
      ]
     },
     "metadata": {},
     "output_type": "display_data"
    }
   ],
   "source": [
    "## Display the summary of the agent workflow trace\n",
    "display(out_3_turn_3_summary)"
   ]
  },
  {
   "cell_type": "markdown",
   "id": "af3cdc78-09b6-470f-90d6-f8b75142eed9",
   "metadata": {},
   "source": [
    "### <a name=\"12\">SQL generation and execution against a database</a>\n",
    "(<a href=\"#0\">Go to top</a>)\n",
    "\n",
    "For this demo, we query the LLM to generate SQL code based on a database schema of our choice and execute it against a database to validate the accuracy of the generated code.\n",
    "\n",
    "<center><img src=\"images/agents-SQLcall.drawio.png\" alt=\"architecture diagram for lab 3 to demonstrate the conditional workflow for LLMs.The same design diagram from earlier in the notebook, but we have highlighted the area that shows we will be working on the Text to SQL generation from natural language questions.\" width=\"600\" height=\"600\" style=\"background-color:white; padding:1em;\" /></center> <br/>\n",
    "\n"
   ]
  },
  {
   "cell_type": "code",
   "execution_count": 52,
   "id": "038713e9-d3a5-4c9c-997d-b9f542c78568",
   "metadata": {
    "tags": []
   },
   "outputs": [],
   "source": [
    "time.sleep(120)"
   ]
  },
  {
   "cell_type": "code",
   "execution_count": 53,
   "id": "8838323d-b5ea-45da-8e7b-5ea8c3f0e17d",
   "metadata": {
    "tags": []
   },
   "outputs": [],
   "source": [
    "question = \"What are the total sales amounts by year?\""
   ]
  },
  {
   "cell_type": "code",
   "execution_count": 54,
   "id": "a847f9d5-a4e7-48ad-a3ba-b4e5fedc5973",
   "metadata": {
    "tags": []
   },
   "outputs": [
    {
     "name": "stdout",
     "output_type": "stream",
     "text": [
      "session_id :::: d59b4030-6f90-11ef-a17b-0a7ea206ebbb\n"
     ]
    },
    {
     "name": "stderr",
     "output_type": "stream",
     "text": [
      "[2024-09-10 16:22:17,248] p31388 {parsers.py:371} INFO - Received a tagged union response with member unknown to client: modelInvocationOutput. Please upgrade SDK for full response support.\n",
      "[2024-09-10 16:22:29,080] p31388 {parsers.py:371} INFO - Received a tagged union response with member unknown to client: modelInvocationOutput. Please upgrade SDK for full response support.\n"
     ]
    },
    {
     "ename": "Exception",
     "evalue": "('unexpected event.', EventStreamError(\"An error occurred (dependencyFailedException) when calling the InvokeAgent operation: Your request couldn't be completed. Lambda function arn:aws:lambda:us-west-2:122610495479:function:LambdaAgentsAIAssistant encountered a problem while processing request.The error message from the Lambda function is Unhandled. Check the Lambda function log for error details, then try your request again after fixing the error.\"))",
     "output_type": "error",
     "traceback": [
      "\u001b[0;31m---------------------------------------------------------------------------\u001b[0m",
      "\u001b[0;31mEventStreamError\u001b[0m                          Traceback (most recent call last)",
      "File \u001b[0;32m~/SageMaker/application-builder-assistant-using-bedrock-agents-and-multiple-knowledge-bases-main/ai_appbuilder_assistant/mlu_utils/agents_utils.py:84\u001b[0m, in \u001b[0;36minvoke_agent_generate_response\u001b[0;34m(bedrock_agent_runtime_client, input_text, agent_id, agent_alias_id, session_id, enable_trace, end_session, trace_filename_prefix, turn_number)\u001b[0m\n\u001b[1;32m     83\u001b[0m \u001b[38;5;28;01mtry\u001b[39;00m:\n\u001b[0;32m---> 84\u001b[0m     \u001b[38;5;28;01mfor\u001b[39;00m event \u001b[38;5;129;01min\u001b[39;00m event_stream:\n\u001b[1;32m     85\u001b[0m         \u001b[38;5;28;01mif\u001b[39;00m \u001b[38;5;124m'\u001b[39m\u001b[38;5;124mchunk\u001b[39m\u001b[38;5;124m'\u001b[39m \u001b[38;5;129;01min\u001b[39;00m event:\n",
      "File \u001b[0;32m~/anaconda3/envs/python3/lib/python3.10/site-packages/botocore/eventstream.py:603\u001b[0m, in \u001b[0;36mEventStream.__iter__\u001b[0;34m(self)\u001b[0m\n\u001b[1;32m    602\u001b[0m \u001b[38;5;28;01mfor\u001b[39;00m event \u001b[38;5;129;01min\u001b[39;00m \u001b[38;5;28mself\u001b[39m\u001b[38;5;241m.\u001b[39m_event_generator:\n\u001b[0;32m--> 603\u001b[0m     parsed_event \u001b[38;5;241m=\u001b[39m \u001b[38;5;28;43mself\u001b[39;49m\u001b[38;5;241;43m.\u001b[39;49m\u001b[43m_parse_event\u001b[49m\u001b[43m(\u001b[49m\u001b[43mevent\u001b[49m\u001b[43m)\u001b[49m\n\u001b[1;32m    604\u001b[0m     \u001b[38;5;28;01mif\u001b[39;00m parsed_event:\n",
      "File \u001b[0;32m~/anaconda3/envs/python3/lib/python3.10/site-packages/botocore/eventstream.py:619\u001b[0m, in \u001b[0;36mEventStream._parse_event\u001b[0;34m(self, event)\u001b[0m\n\u001b[1;32m    618\u001b[0m \u001b[38;5;28;01melse\u001b[39;00m:\n\u001b[0;32m--> 619\u001b[0m     \u001b[38;5;28;01mraise\u001b[39;00m EventStreamError(parsed_response, \u001b[38;5;28mself\u001b[39m\u001b[38;5;241m.\u001b[39m_operation_name)\n",
      "\u001b[0;31mEventStreamError\u001b[0m: An error occurred (dependencyFailedException) when calling the InvokeAgent operation: Your request couldn't be completed. Lambda function arn:aws:lambda:us-west-2:122610495479:function:LambdaAgentsAIAssistant encountered a problem while processing request.The error message from the Lambda function is Unhandled. Check the Lambda function log for error details, then try your request again after fixing the error.",
      "\nDuring handling of the above exception, another exception occurred:\n",
      "\u001b[0;31mException\u001b[0m                                 Traceback (most recent call last)",
      "Cell \u001b[0;32mIn[54], line 12\u001b[0m\n\u001b[1;32m      8\u001b[0m end_session:\u001b[38;5;28mbool\u001b[39m \u001b[38;5;241m=\u001b[39m \u001b[38;5;28;01mFalse\u001b[39;00m\n\u001b[1;32m     10\u001b[0m \u001b[38;5;28mprint\u001b[39m(\u001b[38;5;124mf\u001b[39m\u001b[38;5;124m\"\u001b[39m\u001b[38;5;124msession_id :::: \u001b[39m\u001b[38;5;132;01m{\u001b[39;00msession_id\u001b[38;5;132;01m}\u001b[39;00m\u001b[38;5;124m\"\u001b[39m)\n\u001b[0;32m---> 12\u001b[0m final_answer \u001b[38;5;241m=\u001b[39m \u001b[43minvoke_agent_generate_response\u001b[49m\u001b[43m(\u001b[49m\u001b[43mbedrock_agent_runtime_client\u001b[49m\u001b[43m,\u001b[49m\n\u001b[1;32m     13\u001b[0m \u001b[43m                                               \u001b[49m\u001b[43mUSER_PROMPT_TEMPLATE\u001b[49m\u001b[38;5;241;43m.\u001b[39;49m\u001b[43mformat\u001b[49m\u001b[43m(\u001b[49m\u001b[43mquestion\u001b[49m\u001b[38;5;241;43m=\u001b[39;49m\u001b[43mquestion\u001b[49m\u001b[43m)\u001b[49m\u001b[43m,\u001b[49m\u001b[43m \u001b[49m\n\u001b[1;32m     14\u001b[0m \u001b[43m                                               \u001b[49m\u001b[43magent_id\u001b[49m\u001b[43m,\u001b[49m\u001b[43m \u001b[49m\n\u001b[1;32m     15\u001b[0m \u001b[43m                                               \u001b[49m\u001b[43magent_alias_id\u001b[49m\u001b[43m,\u001b[49m\u001b[43m \u001b[49m\n\u001b[1;32m     16\u001b[0m \u001b[43m                                               \u001b[49m\u001b[43msession_id\u001b[49m\u001b[43m,\u001b[49m\u001b[43m \u001b[49m\n\u001b[1;32m     17\u001b[0m \u001b[43m                                               \u001b[49m\u001b[43menable_trace\u001b[49m\u001b[43m,\u001b[49m\n\u001b[1;32m     18\u001b[0m \u001b[43m                                               \u001b[49m\u001b[43mend_session\u001b[49m\u001b[43m,\u001b[49m\n\u001b[1;32m     19\u001b[0m \u001b[43m                                               \u001b[49m\u001b[43mtrace_filename_prefix\u001b[49m\u001b[43m \u001b[49m\u001b[38;5;241;43m=\u001b[39;49m\u001b[43m \u001b[49m\u001b[38;5;124;43m'\u001b[39;49m\u001b[38;5;124;43mlab3_agent_trace\u001b[39;49m\u001b[38;5;124;43m'\u001b[39;49m\u001b[43m,\u001b[49m\n\u001b[1;32m     20\u001b[0m \u001b[43m                                               \u001b[49m\u001b[43mturn_number\u001b[49m\u001b[43m \u001b[49m\u001b[38;5;241;43m=\u001b[39;49m\u001b[43m \u001b[49m\u001b[38;5;241;43m4\u001b[39;49m\u001b[43m)\u001b[49m\n",
      "File \u001b[0;32m~/SageMaker/application-builder-assistant-using-bedrock-agents-and-multiple-knowledge-bases-main/ai_appbuilder_assistant/mlu_utils/agents_utils.py:122\u001b[0m, in \u001b[0;36minvoke_agent_generate_response\u001b[0;34m(bedrock_agent_runtime_client, input_text, agent_id, agent_alias_id, session_id, enable_trace, end_session, trace_filename_prefix, turn_number)\u001b[0m\n\u001b[1;32m    119\u001b[0m             \u001b[38;5;28;01mraise\u001b[39;00m \u001b[38;5;167;01mException\u001b[39;00m(\u001b[38;5;124m\"\u001b[39m\u001b[38;5;124munexpected event.\u001b[39m\u001b[38;5;124m\"\u001b[39m, event)\n\u001b[1;32m    121\u001b[0m \u001b[38;5;28;01mexcept\u001b[39;00m \u001b[38;5;167;01mException\u001b[39;00m \u001b[38;5;28;01mas\u001b[39;00m e:\n\u001b[0;32m--> 122\u001b[0m     \u001b[38;5;28;01mraise\u001b[39;00m \u001b[38;5;167;01mException\u001b[39;00m(\u001b[38;5;124m\"\u001b[39m\u001b[38;5;124munexpected event.\u001b[39m\u001b[38;5;124m\"\u001b[39m, e)\n\u001b[1;32m    124\u001b[0m \u001b[38;5;28;01mreturn\u001b[39;00m final_answer\n",
      "\u001b[0;31mException\u001b[0m: ('unexpected event.', EventStreamError(\"An error occurred (dependencyFailedException) when calling the InvokeAgent operation: Your request couldn't be completed. Lambda function arn:aws:lambda:us-west-2:122610495479:function:LambdaAgentsAIAssistant encountered a problem while processing request.The error message from the Lambda function is Unhandled. Check the Lambda function log for error details, then try your request again after fixing the error.\"))"
     ]
    }
   ],
   "source": [
    "# Extract the agentAliasId from the response\n",
    "agent_alias_id = agent_alias['agentAlias']['agentAliasId']\n",
    "\n",
    "\n",
    "## Create a random id for session initiator id\n",
    "session_id:str = str(uuid.uuid1()) # random identifier\n",
    "enable_trace:bool = True\n",
    "end_session:bool = False\n",
    "\n",
    "print(f\"session_id :::: {session_id}\")\n",
    "\n",
    "final_answer = invoke_agent_generate_response(bedrock_agent_runtime_client,\n",
    "                                               USER_PROMPT_TEMPLATE.format(question=question), \n",
    "                                               agent_id, \n",
    "                                               agent_alias_id, \n",
    "                                               session_id, \n",
    "                                               enable_trace,\n",
    "                                               end_session,\n",
    "                                               trace_filename_prefix = 'lab3_agent_trace',\n",
    "                                               turn_number = 4)\n",
    "\n"
   ]
  },
  {
   "cell_type": "code",
   "execution_count": null,
   "id": "11638c2c-69a8-4d89-bdf9-ab3b79599870",
   "metadata": {
    "tags": []
   },
   "outputs": [],
   "source": [
    "# And here is the response if you just want to see agent's reply\n",
    "%load_ext autoreload\n",
    "%autoreload 2\n",
    "from mlu_utils.agents_utils import *\n",
    "format_final_response(question=question, final_answer=final_answer, lab_number=\"3\", turn_number=\"4\", gen_sql=True)"
   ]
  },
  {
   "cell_type": "code",
   "execution_count": null,
   "id": "ba9fe4cd-94c4-470f-894a-683a10d20601",
   "metadata": {
    "tags": []
   },
   "outputs": [],
   "source": [
    "# Deep dive into Agent-workflow steps in each of the tabs\n",
    "%load_ext autoreload\n",
    "%autoreload 2\n",
    "from mlu_utils.show_trace_widget import *\n",
    "\n",
    "show_tabs(trace_filename_prefix = 'lab3_agent_trace', turn_number = 4)\n",
    "display(out_3_tabs_4)"
   ]
  },
  {
   "cell_type": "code",
   "execution_count": null,
   "id": "a92da723-a400-44cb-8b3b-a1ad213f1eec",
   "metadata": {},
   "outputs": [],
   "source": [
    "# Wait for tab output async processes to complete\n",
    "time.sleep(10)"
   ]
  },
  {
   "cell_type": "code",
   "execution_count": null,
   "id": "af7339c2-53a4-4f44-b407-e8c5f3bcf2db",
   "metadata": {
    "tags": []
   },
   "outputs": [],
   "source": [
    "%%time\n",
    "# Using Claude-v3 Haiku to generate a summary of the agent's workflow for this conversation turn\n",
    "turn_4_summary = summarize_agent_trace(trace_file_base_path= \"trace_files/\", lab_number=\"3\", turn_number=\"4\")\n",
    "with out_3_turn_4_summary:\n",
    "    out_3_turn_4_summary.clear_output()\n",
    "    display(Markdown(turn_4_summary))"
   ]
  },
  {
   "cell_type": "code",
   "execution_count": null,
   "id": "d01a69b7-02ae-41af-bffc-092402af971e",
   "metadata": {
    "tags": []
   },
   "outputs": [],
   "source": [
    "## Display the summary of the agent workflow trace\n",
    "display(out_3_turn_4_summary)"
   ]
  },
  {
   "cell_type": "markdown",
   "id": "9a81ac3f-a880-446b-99dd-7507b86a75c8",
   "metadata": {},
   "source": [
    "### <a name=\"9\">[Be Frugal] Clean up resources </a>\n",
    "(<a href=\"#0\">Go to top</a>)\n"
   ]
  },
  {
   "cell_type": "markdown",
   "id": "636168de-bc90-46d2-a7c5-43e0904b0fc5",
   "metadata": {
    "tags": []
   },
   "source": [
    "##### In the following cell, we offer an option raise an exception to avoid auto-executing the next block of lines and optionally clean up all resources. This is useful when the `Kernel > run all` option is used.\n",
    "\n",
    "`Please be frugal if you choose to enable this exception in the code cell below. By default it is disabled and all resources will be cleaned up immediately to avoid additional costs.`\n",
    "\n",
    "##### Within the same kernel session, this will allow experimentation with different prompts without having to recreate agent resources (takes ~5 minutes)"
   ]
  },
  {
   "cell_type": "code",
   "execution_count": null,
   "id": "d6aac2b7-dc28-4122-ab3e-5d3d28abd42d",
   "metadata": {
    "tags": []
   },
   "outputs": [],
   "source": [
    "# This avoids auto-cleanup\n",
    "Raise Exception('Avoiding Auto-Cleanup of Bedrock Agent Resources')"
   ]
  },
  {
   "cell_type": "code",
   "execution_count": null,
   "id": "0ba0d062-8fdc-403d-bd6f-60ff918f07f8",
   "metadata": {},
   "outputs": [],
   "source": [
    "cleanup_infrastructure(agent_action_group_response, lambda_name, lambda_function, lambda_role_name, agent_id, agent_alias_id, agent_role_name, bucket_name, schema_key, agent_bedrock_policy, agent_s3_schema_policy, agent_kb_schema_policy, kb_db_bedrock_policy, kb_db_aoss_policy, kb_db_s3_policy, kb_db_role_name, kb_db_collection_name, kb_db_opensearch_collection_response, knowledge_base_db_id, kb_aws_bedrock_policy, kb_aws_aoss_policy, kb_aws_s3_policy, kb_aws_role_name, kb_aws_collection_name, kb_aws_opensearch_collection_response, knowledge_base_aws_id)"
   ]
  },
  {
   "cell_type": "code",
   "execution_count": null,
   "id": "091af395-6d6b-45ae-a7c7-78ee6c58cb00",
   "metadata": {},
   "outputs": [],
   "source": [
    "## Cleanup S3 separately - it has 2 KBs with GBs of data\n",
    "s3 = boto3.resource('s3')\n",
    "bucket = s3.Bucket(bucket_name)\n",
    "bucket.objects.all().delete()\n",
    "\n",
    "s3_client.delete_bucket(Bucket=bucket_name)\n",
    "print(f\"\\n bucket DELETED :: {bucket_name}\")\n"
   ]
  },
  {
   "cell_type": "markdown",
   "id": "47ce5c54-3e54-40fc-aa10-d7ec785ea832",
   "metadata": {},
   "source": [
    "## Conclusion\n",
    "We have now experimented with using `boto3` SDK to create, invoke and delete an agent.\n",
    "\n",
    "### Take aways\n",
    "- Adapt this notebook to create new agents for your application\n",
    "\n",
    "## Thank You"
   ]
  }
 ],
 "metadata": {
  "availableInstances": [
   {
    "_defaultOrder": 0,
    "_isFastLaunch": true,
    "category": "General purpose",
    "gpuNum": 0,
    "hideHardwareSpecs": false,
    "memoryGiB": 4,
    "name": "ml.t3.medium",
    "vcpuNum": 2
   },
   {
    "_defaultOrder": 1,
    "_isFastLaunch": false,
    "category": "General purpose",
    "gpuNum": 0,
    "hideHardwareSpecs": false,
    "memoryGiB": 8,
    "name": "ml.t3.large",
    "vcpuNum": 2
   },
   {
    "_defaultOrder": 2,
    "_isFastLaunch": false,
    "category": "General purpose",
    "gpuNum": 0,
    "hideHardwareSpecs": false,
    "memoryGiB": 16,
    "name": "ml.t3.xlarge",
    "vcpuNum": 4
   },
   {
    "_defaultOrder": 3,
    "_isFastLaunch": false,
    "category": "General purpose",
    "gpuNum": 0,
    "hideHardwareSpecs": false,
    "memoryGiB": 32,
    "name": "ml.t3.2xlarge",
    "vcpuNum": 8
   },
   {
    "_defaultOrder": 4,
    "_isFastLaunch": true,
    "category": "General purpose",
    "gpuNum": 0,
    "hideHardwareSpecs": false,
    "memoryGiB": 8,
    "name": "ml.m5.large",
    "vcpuNum": 2
   },
   {
    "_defaultOrder": 5,
    "_isFastLaunch": false,
    "category": "General purpose",
    "gpuNum": 0,
    "hideHardwareSpecs": false,
    "memoryGiB": 16,
    "name": "ml.m5.xlarge",
    "vcpuNum": 4
   },
   {
    "_defaultOrder": 6,
    "_isFastLaunch": false,
    "category": "General purpose",
    "gpuNum": 0,
    "hideHardwareSpecs": false,
    "memoryGiB": 32,
    "name": "ml.m5.2xlarge",
    "vcpuNum": 8
   },
   {
    "_defaultOrder": 7,
    "_isFastLaunch": false,
    "category": "General purpose",
    "gpuNum": 0,
    "hideHardwareSpecs": false,
    "memoryGiB": 64,
    "name": "ml.m5.4xlarge",
    "vcpuNum": 16
   },
   {
    "_defaultOrder": 8,
    "_isFastLaunch": false,
    "category": "General purpose",
    "gpuNum": 0,
    "hideHardwareSpecs": false,
    "memoryGiB": 128,
    "name": "ml.m5.8xlarge",
    "vcpuNum": 32
   },
   {
    "_defaultOrder": 9,
    "_isFastLaunch": false,
    "category": "General purpose",
    "gpuNum": 0,
    "hideHardwareSpecs": false,
    "memoryGiB": 192,
    "name": "ml.m5.12xlarge",
    "vcpuNum": 48
   },
   {
    "_defaultOrder": 10,
    "_isFastLaunch": false,
    "category": "General purpose",
    "gpuNum": 0,
    "hideHardwareSpecs": false,
    "memoryGiB": 256,
    "name": "ml.m5.16xlarge",
    "vcpuNum": 64
   },
   {
    "_defaultOrder": 11,
    "_isFastLaunch": false,
    "category": "General purpose",
    "gpuNum": 0,
    "hideHardwareSpecs": false,
    "memoryGiB": 384,
    "name": "ml.m5.24xlarge",
    "vcpuNum": 96
   },
   {
    "_defaultOrder": 12,
    "_isFastLaunch": false,
    "category": "General purpose",
    "gpuNum": 0,
    "hideHardwareSpecs": false,
    "memoryGiB": 8,
    "name": "ml.m5d.large",
    "vcpuNum": 2
   },
   {
    "_defaultOrder": 13,
    "_isFastLaunch": false,
    "category": "General purpose",
    "gpuNum": 0,
    "hideHardwareSpecs": false,
    "memoryGiB": 16,
    "name": "ml.m5d.xlarge",
    "vcpuNum": 4
   },
   {
    "_defaultOrder": 14,
    "_isFastLaunch": false,
    "category": "General purpose",
    "gpuNum": 0,
    "hideHardwareSpecs": false,
    "memoryGiB": 32,
    "name": "ml.m5d.2xlarge",
    "vcpuNum": 8
   },
   {
    "_defaultOrder": 15,
    "_isFastLaunch": false,
    "category": "General purpose",
    "gpuNum": 0,
    "hideHardwareSpecs": false,
    "memoryGiB": 64,
    "name": "ml.m5d.4xlarge",
    "vcpuNum": 16
   },
   {
    "_defaultOrder": 16,
    "_isFastLaunch": false,
    "category": "General purpose",
    "gpuNum": 0,
    "hideHardwareSpecs": false,
    "memoryGiB": 128,
    "name": "ml.m5d.8xlarge",
    "vcpuNum": 32
   },
   {
    "_defaultOrder": 17,
    "_isFastLaunch": false,
    "category": "General purpose",
    "gpuNum": 0,
    "hideHardwareSpecs": false,
    "memoryGiB": 192,
    "name": "ml.m5d.12xlarge",
    "vcpuNum": 48
   },
   {
    "_defaultOrder": 18,
    "_isFastLaunch": false,
    "category": "General purpose",
    "gpuNum": 0,
    "hideHardwareSpecs": false,
    "memoryGiB": 256,
    "name": "ml.m5d.16xlarge",
    "vcpuNum": 64
   },
   {
    "_defaultOrder": 19,
    "_isFastLaunch": false,
    "category": "General purpose",
    "gpuNum": 0,
    "hideHardwareSpecs": false,
    "memoryGiB": 384,
    "name": "ml.m5d.24xlarge",
    "vcpuNum": 96
   },
   {
    "_defaultOrder": 20,
    "_isFastLaunch": false,
    "category": "General purpose",
    "gpuNum": 0,
    "hideHardwareSpecs": true,
    "memoryGiB": 0,
    "name": "ml.geospatial.interactive",
    "supportedImageNames": [
     "sagemaker-geospatial-v1-0"
    ],
    "vcpuNum": 0
   },
   {
    "_defaultOrder": 21,
    "_isFastLaunch": true,
    "category": "Compute optimized",
    "gpuNum": 0,
    "hideHardwareSpecs": false,
    "memoryGiB": 4,
    "name": "ml.c5.large",
    "vcpuNum": 2
   },
   {
    "_defaultOrder": 22,
    "_isFastLaunch": false,
    "category": "Compute optimized",
    "gpuNum": 0,
    "hideHardwareSpecs": false,
    "memoryGiB": 8,
    "name": "ml.c5.xlarge",
    "vcpuNum": 4
   },
   {
    "_defaultOrder": 23,
    "_isFastLaunch": false,
    "category": "Compute optimized",
    "gpuNum": 0,
    "hideHardwareSpecs": false,
    "memoryGiB": 16,
    "name": "ml.c5.2xlarge",
    "vcpuNum": 8
   },
   {
    "_defaultOrder": 24,
    "_isFastLaunch": false,
    "category": "Compute optimized",
    "gpuNum": 0,
    "hideHardwareSpecs": false,
    "memoryGiB": 32,
    "name": "ml.c5.4xlarge",
    "vcpuNum": 16
   },
   {
    "_defaultOrder": 25,
    "_isFastLaunch": false,
    "category": "Compute optimized",
    "gpuNum": 0,
    "hideHardwareSpecs": false,
    "memoryGiB": 72,
    "name": "ml.c5.9xlarge",
    "vcpuNum": 36
   },
   {
    "_defaultOrder": 26,
    "_isFastLaunch": false,
    "category": "Compute optimized",
    "gpuNum": 0,
    "hideHardwareSpecs": false,
    "memoryGiB": 96,
    "name": "ml.c5.12xlarge",
    "vcpuNum": 48
   },
   {
    "_defaultOrder": 27,
    "_isFastLaunch": false,
    "category": "Compute optimized",
    "gpuNum": 0,
    "hideHardwareSpecs": false,
    "memoryGiB": 144,
    "name": "ml.c5.18xlarge",
    "vcpuNum": 72
   },
   {
    "_defaultOrder": 28,
    "_isFastLaunch": false,
    "category": "Compute optimized",
    "gpuNum": 0,
    "hideHardwareSpecs": false,
    "memoryGiB": 192,
    "name": "ml.c5.24xlarge",
    "vcpuNum": 96
   },
   {
    "_defaultOrder": 29,
    "_isFastLaunch": true,
    "category": "Accelerated computing",
    "gpuNum": 1,
    "hideHardwareSpecs": false,
    "memoryGiB": 16,
    "name": "ml.g4dn.xlarge",
    "vcpuNum": 4
   },
   {
    "_defaultOrder": 30,
    "_isFastLaunch": false,
    "category": "Accelerated computing",
    "gpuNum": 1,
    "hideHardwareSpecs": false,
    "memoryGiB": 32,
    "name": "ml.g4dn.2xlarge",
    "vcpuNum": 8
   },
   {
    "_defaultOrder": 31,
    "_isFastLaunch": false,
    "category": "Accelerated computing",
    "gpuNum": 1,
    "hideHardwareSpecs": false,
    "memoryGiB": 64,
    "name": "ml.g4dn.4xlarge",
    "vcpuNum": 16
   },
   {
    "_defaultOrder": 32,
    "_isFastLaunch": false,
    "category": "Accelerated computing",
    "gpuNum": 1,
    "hideHardwareSpecs": false,
    "memoryGiB": 128,
    "name": "ml.g4dn.8xlarge",
    "vcpuNum": 32
   },
   {
    "_defaultOrder": 33,
    "_isFastLaunch": false,
    "category": "Accelerated computing",
    "gpuNum": 4,
    "hideHardwareSpecs": false,
    "memoryGiB": 192,
    "name": "ml.g4dn.12xlarge",
    "vcpuNum": 48
   },
   {
    "_defaultOrder": 34,
    "_isFastLaunch": false,
    "category": "Accelerated computing",
    "gpuNum": 1,
    "hideHardwareSpecs": false,
    "memoryGiB": 256,
    "name": "ml.g4dn.16xlarge",
    "vcpuNum": 64
   },
   {
    "_defaultOrder": 35,
    "_isFastLaunch": false,
    "category": "Accelerated computing",
    "gpuNum": 1,
    "hideHardwareSpecs": false,
    "memoryGiB": 61,
    "name": "ml.p3.2xlarge",
    "vcpuNum": 8
   },
   {
    "_defaultOrder": 36,
    "_isFastLaunch": false,
    "category": "Accelerated computing",
    "gpuNum": 4,
    "hideHardwareSpecs": false,
    "memoryGiB": 244,
    "name": "ml.p3.8xlarge",
    "vcpuNum": 32
   },
   {
    "_defaultOrder": 37,
    "_isFastLaunch": false,
    "category": "Accelerated computing",
    "gpuNum": 8,
    "hideHardwareSpecs": false,
    "memoryGiB": 488,
    "name": "ml.p3.16xlarge",
    "vcpuNum": 64
   },
   {
    "_defaultOrder": 38,
    "_isFastLaunch": false,
    "category": "Accelerated computing",
    "gpuNum": 8,
    "hideHardwareSpecs": false,
    "memoryGiB": 768,
    "name": "ml.p3dn.24xlarge",
    "vcpuNum": 96
   },
   {
    "_defaultOrder": 39,
    "_isFastLaunch": false,
    "category": "Memory Optimized",
    "gpuNum": 0,
    "hideHardwareSpecs": false,
    "memoryGiB": 16,
    "name": "ml.r5.large",
    "vcpuNum": 2
   },
   {
    "_defaultOrder": 40,
    "_isFastLaunch": false,
    "category": "Memory Optimized",
    "gpuNum": 0,
    "hideHardwareSpecs": false,
    "memoryGiB": 32,
    "name": "ml.r5.xlarge",
    "vcpuNum": 4
   },
   {
    "_defaultOrder": 41,
    "_isFastLaunch": false,
    "category": "Memory Optimized",
    "gpuNum": 0,
    "hideHardwareSpecs": false,
    "memoryGiB": 64,
    "name": "ml.r5.2xlarge",
    "vcpuNum": 8
   },
   {
    "_defaultOrder": 42,
    "_isFastLaunch": false,
    "category": "Memory Optimized",
    "gpuNum": 0,
    "hideHardwareSpecs": false,
    "memoryGiB": 128,
    "name": "ml.r5.4xlarge",
    "vcpuNum": 16
   },
   {
    "_defaultOrder": 43,
    "_isFastLaunch": false,
    "category": "Memory Optimized",
    "gpuNum": 0,
    "hideHardwareSpecs": false,
    "memoryGiB": 256,
    "name": "ml.r5.8xlarge",
    "vcpuNum": 32
   },
   {
    "_defaultOrder": 44,
    "_isFastLaunch": false,
    "category": "Memory Optimized",
    "gpuNum": 0,
    "hideHardwareSpecs": false,
    "memoryGiB": 384,
    "name": "ml.r5.12xlarge",
    "vcpuNum": 48
   },
   {
    "_defaultOrder": 45,
    "_isFastLaunch": false,
    "category": "Memory Optimized",
    "gpuNum": 0,
    "hideHardwareSpecs": false,
    "memoryGiB": 512,
    "name": "ml.r5.16xlarge",
    "vcpuNum": 64
   },
   {
    "_defaultOrder": 46,
    "_isFastLaunch": false,
    "category": "Memory Optimized",
    "gpuNum": 0,
    "hideHardwareSpecs": false,
    "memoryGiB": 768,
    "name": "ml.r5.24xlarge",
    "vcpuNum": 96
   },
   {
    "_defaultOrder": 47,
    "_isFastLaunch": false,
    "category": "Accelerated computing",
    "gpuNum": 1,
    "hideHardwareSpecs": false,
    "memoryGiB": 16,
    "name": "ml.g5.xlarge",
    "vcpuNum": 4
   },
   {
    "_defaultOrder": 48,
    "_isFastLaunch": false,
    "category": "Accelerated computing",
    "gpuNum": 1,
    "hideHardwareSpecs": false,
    "memoryGiB": 32,
    "name": "ml.g5.2xlarge",
    "vcpuNum": 8
   },
   {
    "_defaultOrder": 49,
    "_isFastLaunch": false,
    "category": "Accelerated computing",
    "gpuNum": 1,
    "hideHardwareSpecs": false,
    "memoryGiB": 64,
    "name": "ml.g5.4xlarge",
    "vcpuNum": 16
   },
   {
    "_defaultOrder": 50,
    "_isFastLaunch": false,
    "category": "Accelerated computing",
    "gpuNum": 1,
    "hideHardwareSpecs": false,
    "memoryGiB": 128,
    "name": "ml.g5.8xlarge",
    "vcpuNum": 32
   },
   {
    "_defaultOrder": 51,
    "_isFastLaunch": false,
    "category": "Accelerated computing",
    "gpuNum": 1,
    "hideHardwareSpecs": false,
    "memoryGiB": 256,
    "name": "ml.g5.16xlarge",
    "vcpuNum": 64
   },
   {
    "_defaultOrder": 52,
    "_isFastLaunch": false,
    "category": "Accelerated computing",
    "gpuNum": 4,
    "hideHardwareSpecs": false,
    "memoryGiB": 192,
    "name": "ml.g5.12xlarge",
    "vcpuNum": 48
   },
   {
    "_defaultOrder": 53,
    "_isFastLaunch": false,
    "category": "Accelerated computing",
    "gpuNum": 4,
    "hideHardwareSpecs": false,
    "memoryGiB": 384,
    "name": "ml.g5.24xlarge",
    "vcpuNum": 96
   },
   {
    "_defaultOrder": 54,
    "_isFastLaunch": false,
    "category": "Accelerated computing",
    "gpuNum": 8,
    "hideHardwareSpecs": false,
    "memoryGiB": 768,
    "name": "ml.g5.48xlarge",
    "vcpuNum": 192
   },
   {
    "_defaultOrder": 55,
    "_isFastLaunch": false,
    "category": "Accelerated computing",
    "gpuNum": 8,
    "hideHardwareSpecs": false,
    "memoryGiB": 1152,
    "name": "ml.p4d.24xlarge",
    "vcpuNum": 96
   },
   {
    "_defaultOrder": 56,
    "_isFastLaunch": false,
    "category": "Accelerated computing",
    "gpuNum": 8,
    "hideHardwareSpecs": false,
    "memoryGiB": 1152,
    "name": "ml.p4de.24xlarge",
    "vcpuNum": 96
   },
   {
    "_defaultOrder": 57,
    "_isFastLaunch": false,
    "category": "Accelerated computing",
    "gpuNum": 0,
    "hideHardwareSpecs": false,
    "memoryGiB": 32,
    "name": "ml.trn1.2xlarge",
    "vcpuNum": 8
   },
   {
    "_defaultOrder": 58,
    "_isFastLaunch": false,
    "category": "Accelerated computing",
    "gpuNum": 0,
    "hideHardwareSpecs": false,
    "memoryGiB": 512,
    "name": "ml.trn1.32xlarge",
    "vcpuNum": 128
   },
   {
    "_defaultOrder": 59,
    "_isFastLaunch": false,
    "category": "Accelerated computing",
    "gpuNum": 0,
    "hideHardwareSpecs": false,
    "memoryGiB": 512,
    "name": "ml.trn1n.32xlarge",
    "vcpuNum": 128
   }
  ],
  "instance_type": "ml.t3.medium",
  "kernelspec": {
   "display_name": "conda_python3",
   "language": "python",
   "name": "conda_python3"
  },
  "language_info": {
   "codemirror_mode": {
    "name": "ipython",
    "version": 3
   },
   "file_extension": ".py",
   "mimetype": "text/x-python",
   "name": "python",
   "nbconvert_exporter": "python",
   "pygments_lexer": "ipython3",
   "version": "3.10.14"
  }
 },
 "nbformat": 4,
 "nbformat_minor": 5
}
